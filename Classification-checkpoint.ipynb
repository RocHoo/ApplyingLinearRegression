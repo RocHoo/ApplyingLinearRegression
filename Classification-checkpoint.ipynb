{
 "cells": [
  {
   "cell_type": "markdown",
   "metadata": {},
   "source": [
    "# 分类的应用\n",
    "\n",
    "在本实验中，您将使用**逻辑回归**执行**两级分类**。分类器是一种机器学习模型，它将**标签**分为类别,分类模型是**监督**机器学习模型，其预测分类标签。\n",
    "\n",
    "德国信用银行客户数据用于确定特定人员的信用风险是好还是坏。因此，客户的信用风险是您必须预测的类别。在这种情况下，银行向坏风险客户发放贷款的成本是拒绝向优质客户贷款的成本的五倍。在评估模型的性能时，这一事实将变得非常重要。\n",
    "\n",
    "Logistic回归是线性模型，但具有非线性响应。响应是二进制，$\\{ 0,1 \\}$，或正面和负面。响应是对类别的预测。\n",
    "\n",
    "在本实验中，您将学习以下内容：\n",
    " - 如何使用scikit-learn为分类模型准备数据。\n",
    " - 使用scikit-learn构建分类模型。\n",
    " - 评估分类模型的性能。\n",
    " - 使用诸如重新加权标签和更改决策阈值等技术来改变假阳性和假阴性错误率之间的权衡。\n"
   ]
  },
  {
   "cell_type": "markdown",
   "metadata": {},
   "source": [
    "\n",
    "## 逻辑回归基础知识\n",
    "\n",
    "在本节中，介绍了逻辑回归模型的一些基本属性。\n",
    "\n",
    "首先，执行下面单元格中的代码以加载运行所需的包。\n"
   ]
  },
  {
   "cell_type": "code",
   "execution_count": 2,
   "metadata": {},
   "outputs": [],
   "source": [
    "import pandas as pd\n",
    "import matplotlib.pyplot as plt\n",
    "import seaborn as sns\n",
    "import numpy as np\n",
    "import numpy.random as nr\n",
    "import math\n",
    "from sklearn import preprocessing\n",
    "import sklearn.model_selection as ms\n",
    "from sklearn import linear_model\n",
    "import sklearn.metrics as sklm\n",
    "\n",
    "%matplotlib inline"
   ]
  },
  {
   "cell_type": "markdown",
   "metadata": {},
   "source": [
    "Logistic回归被广泛用作分类模型。 逻辑回归是线性模型，具有二元响应，`{False, True}`或`{0, 1}`。 您可以将此响应视为具有二项分布。 对于线性回归，响应恰好是线性的。 Logistic回归是具有非线性输出的线性回归模型。 使用**sigmoidal函数**（也称为**逻辑函数**）将线性模型的响应变换或“压扁”为接近0和1的值。这种转换的结果表示它是两个类中每个类的对数似然估计的响应。\n",
    "\n",
    "sigmoidal函数表示如下：\n",
    "\n",
    "$$f(x) = \\frac{1}{1 + e^{-\\kappa(x - x_0)}} \\\\\n",
    "\\kappa = steepness$$\n",
    "\n",
    "执行下面单元格中的代码以计算和绘制逻辑函数的示例："
   ]
  },
  {
   "cell_type": "code",
   "execution_count": 3,
   "metadata": {
    "scrolled": true
   },
   "outputs": [
    {
     "data": {
      "text/plain": [
       "Text(0.5,0,'Value of output from linear regression')"
      ]
     },
     "execution_count": 3,
     "metadata": {},
     "output_type": "execute_result"
    },
    {
     "data": {
      "image/png": "[encoded data removed]",
      "text/plain": [
       "<Figure size 432x288 with 1 Axes>"
      ]
     },
     "metadata": {
      "needs_background": "light"
     },
     "output_type": "display_data"
    }
   ],
   "source": [
    "xseq = np.arange(-7, 7, 0.1)\n",
    "\n",
    "logistic = [math.exp(v)/(1 + math.exp(v)) for v in xseq]\n",
    "\n",
    "plt.plot(xseq, logistic, color = 'red')\n",
    "plt.plot([-7,7], [0.5,0.5], color = 'blue')\n",
    "plt.plot([0,0], [0,1], color = 'blue')\n",
    "plt.title('Logistic function for two-class classification')\n",
    "plt.ylabel('log likelihood')\n",
    "plt.xlabel('Value of output from linear regression')"
   ]
  },
  {
   "cell_type": "markdown",
   "metadata": {},
   "source": [
    "我们用一个简单的例子来说明这一点，假设我们有一个线性模型：\n",
    "\n",
    "$$\\hat{y} = \\beta_0 + \\beta_1\\ x$$\n",
    "\n",
    "现在，根据 $\\hat{y}$的值，我们希望将逻辑回归模型的输出分类为“0”或“1”，将线性模型替换为逻辑函数会创建以下表达式：\n",
    "\n",
    "$$F(\\hat{y}) = \\frac{1}{1 + e^{-\\kappa(\\beta_0 + \\beta_1\\ x)}} $$\n",
    "\n",
    "通过这种方式，我们将$-\\infty \\le \\hat{y} \\le \\infty$上定义的线性模型的连续输出转换为二元响应，$0 \\le F(\\hat{y}) \\le 1$。\n"
   ]
  },
  {
   "cell_type": "markdown",
   "metadata": {},
   "source": [
    "\n",
    "## 加载并准备数据集\n",
    "\n",
    "首先，加载数据集。 下面单元格中的代码加载数据集并为列分配可读的名称。 执行此代码并检查结果。\n",
    "\n",
    "您现在应该非常熟悉接下来的几个部分，因为我们已经在之前的实验中详细介绍了它们。\n"
   ]
  },
  {
   "cell_type": "code",
   "execution_count": 5,
   "metadata": {},
   "outputs": [
    {
     "name": "stdout",
     "output_type": "stream",
     "text": [
      "(1000, 22)\n"
     ]
    },
    {
     "data": {
      "text/html": [
       "<div>\n",
       "<style scoped>\n",
       "    .dataframe tbody tr th:only-of-type {\n",
       "        vertical-align: middle;\n",
       "    }\n",
       "\n",
       "    .dataframe tbody tr th {\n",
       "        vertical-align: top;\n",
       "    }\n",
       "\n",
       "    .dataframe thead th {\n",
       "        text-align: right;\n",
       "    }\n",
       "</style>\n",
       "<table border=\"1\" class=\"dataframe\">\n",
       "  <thead>\n",
       "    <tr style=\"text-align: right;\">\n",
       "      <th></th>\n",
       "      <th>customer_id</th>\n",
       "      <th>checking_account_status</th>\n",
       "      <th>loan_duration_mo</th>\n",
       "      <th>credit_history</th>\n",
       "      <th>purpose</th>\n",
       "      <th>loan_amount</th>\n",
       "      <th>savings_account_balance</th>\n",
       "      <th>time_employed_yrs</th>\n",
       "      <th>payment_pcnt_income</th>\n",
       "      <th>gender_status</th>\n",
       "      <th>...</th>\n",
       "      <th>property</th>\n",
       "      <th>age_yrs</th>\n",
       "      <th>other_credit_outstanding</th>\n",
       "      <th>home_ownership</th>\n",
       "      <th>number_loans</th>\n",
       "      <th>job_category</th>\n",
       "      <th>dependents</th>\n",
       "      <th>telephone</th>\n",
       "      <th>foreign_worker</th>\n",
       "      <th>bad_credit</th>\n",
       "    </tr>\n",
       "  </thead>\n",
       "  <tbody>\n",
       "    <tr>\n",
       "      <th>0</th>\n",
       "      <td>1122334</td>\n",
       "      <td>&lt; 0 DM</td>\n",
       "      <td>6</td>\n",
       "      <td>critical account - other non-bank loans</td>\n",
       "      <td>radio/television</td>\n",
       "      <td>1169</td>\n",
       "      <td>unknown/none</td>\n",
       "      <td>&gt;= 7 years</td>\n",
       "      <td>4</td>\n",
       "      <td>male-single</td>\n",
       "      <td>...</td>\n",
       "      <td>real estate</td>\n",
       "      <td>67</td>\n",
       "      <td>none</td>\n",
       "      <td>own</td>\n",
       "      <td>2</td>\n",
       "      <td>skilled</td>\n",
       "      <td>1</td>\n",
       "      <td>yes</td>\n",
       "      <td>yes</td>\n",
       "      <td>0</td>\n",
       "    </tr>\n",
       "    <tr>\n",
       "      <th>1</th>\n",
       "      <td>6156361</td>\n",
       "      <td>0 - 200 DM</td>\n",
       "      <td>48</td>\n",
       "      <td>current loans paid</td>\n",
       "      <td>radio/television</td>\n",
       "      <td>5951</td>\n",
       "      <td>&lt; 100 DM</td>\n",
       "      <td>1 - 4 years</td>\n",
       "      <td>2</td>\n",
       "      <td>female-divorced/separated/married</td>\n",
       "      <td>...</td>\n",
       "      <td>real estate</td>\n",
       "      <td>22</td>\n",
       "      <td>none</td>\n",
       "      <td>own</td>\n",
       "      <td>1</td>\n",
       "      <td>skilled</td>\n",
       "      <td>1</td>\n",
       "      <td>none</td>\n",
       "      <td>yes</td>\n",
       "      <td>1</td>\n",
       "    </tr>\n",
       "    <tr>\n",
       "      <th>2</th>\n",
       "      <td>2051359</td>\n",
       "      <td>none</td>\n",
       "      <td>12</td>\n",
       "      <td>critical account - other non-bank loans</td>\n",
       "      <td>education</td>\n",
       "      <td>2096</td>\n",
       "      <td>&lt; 100 DM</td>\n",
       "      <td>4 - 7 years</td>\n",
       "      <td>2</td>\n",
       "      <td>male-single</td>\n",
       "      <td>...</td>\n",
       "      <td>real estate</td>\n",
       "      <td>49</td>\n",
       "      <td>none</td>\n",
       "      <td>own</td>\n",
       "      <td>1</td>\n",
       "      <td>unskilled-resident</td>\n",
       "      <td>2</td>\n",
       "      <td>none</td>\n",
       "      <td>yes</td>\n",
       "      <td>0</td>\n",
       "    </tr>\n",
       "    <tr>\n",
       "      <th>3</th>\n",
       "      <td>8740590</td>\n",
       "      <td>&lt; 0 DM</td>\n",
       "      <td>42</td>\n",
       "      <td>current loans paid</td>\n",
       "      <td>furniture/equipment</td>\n",
       "      <td>7882</td>\n",
       "      <td>&lt; 100 DM</td>\n",
       "      <td>4 - 7 years</td>\n",
       "      <td>2</td>\n",
       "      <td>male-single</td>\n",
       "      <td>...</td>\n",
       "      <td>building society savings/life insurance</td>\n",
       "      <td>45</td>\n",
       "      <td>none</td>\n",
       "      <td>for free</td>\n",
       "      <td>1</td>\n",
       "      <td>skilled</td>\n",
       "      <td>2</td>\n",
       "      <td>none</td>\n",
       "      <td>yes</td>\n",
       "      <td>0</td>\n",
       "    </tr>\n",
       "    <tr>\n",
       "      <th>4</th>\n",
       "      <td>3924540</td>\n",
       "      <td>&lt; 0 DM</td>\n",
       "      <td>24</td>\n",
       "      <td>past payment delays</td>\n",
       "      <td>car (new)</td>\n",
       "      <td>4870</td>\n",
       "      <td>&lt; 100 DM</td>\n",
       "      <td>1 - 4 years</td>\n",
       "      <td>3</td>\n",
       "      <td>male-single</td>\n",
       "      <td>...</td>\n",
       "      <td>unknown-none</td>\n",
       "      <td>53</td>\n",
       "      <td>none</td>\n",
       "      <td>for free</td>\n",
       "      <td>2</td>\n",
       "      <td>skilled</td>\n",
       "      <td>2</td>\n",
       "      <td>none</td>\n",
       "      <td>yes</td>\n",
       "      <td>1</td>\n",
       "    </tr>\n",
       "  </tbody>\n",
       "</table>\n",
       "<p>5 rows × 22 columns</p>\n",
       "</div>"
      ],
      "text/plain": [
       "   customer_id checking_account_status  loan_duration_mo  \\\n",
       "0      1122334                  < 0 DM                 6   \n",
       "1      6156361              0 - 200 DM                48   \n",
       "2      2051359                    none                12   \n",
       "3      8740590                  < 0 DM                42   \n",
       "4      3924540                  < 0 DM                24   \n",
       "\n",
       "                            credit_history              purpose  loan_amount  \\\n",
       "0  critical account - other non-bank loans     radio/television         1169   \n",
       "1                       current loans paid     radio/television         5951   \n",
       "2  critical account - other non-bank loans            education         2096   \n",
       "3                       current loans paid  furniture/equipment         7882   \n",
       "4                      past payment delays            car (new)         4870   \n",
       "\n",
       "  savings_account_balance time_employed_yrs  payment_pcnt_income  \\\n",
       "0            unknown/none        >= 7 years                    4   \n",
       "1                < 100 DM       1 - 4 years                    2   \n",
       "2                < 100 DM       4 - 7 years                    2   \n",
       "3                < 100 DM       4 - 7 years                    2   \n",
       "4                < 100 DM       1 - 4 years                    3   \n",
       "\n",
       "                       gender_status    ...      \\\n",
       "0                        male-single    ...       \n",
       "1  female-divorced/separated/married    ...       \n",
       "2                        male-single    ...       \n",
       "3                        male-single    ...       \n",
       "4                        male-single    ...       \n",
       "\n",
       "                                  property  age_yrs other_credit_outstanding  \\\n",
       "0                              real estate       67                     none   \n",
       "1                              real estate       22                     none   \n",
       "2                              real estate       49                     none   \n",
       "3  building society savings/life insurance       45                     none   \n",
       "4                             unknown-none       53                     none   \n",
       "\n",
       "   home_ownership number_loans        job_category  dependents telephone  \\\n",
       "0             own            2             skilled           1       yes   \n",
       "1             own            1             skilled           1      none   \n",
       "2             own            1  unskilled-resident           2      none   \n",
       "3        for free            1             skilled           2      none   \n",
       "4        for free            2             skilled           2      none   \n",
       "\n",
       "   foreign_worker bad_credit  \n",
       "0             yes          0  \n",
       "1             yes          1  \n",
       "2             yes          0  \n",
       "3             yes          0  \n",
       "4             yes          1  \n",
       "\n",
       "[5 rows x 22 columns]"
      ]
     },
     "execution_count": 5,
     "metadata": {},
     "output_type": "execute_result"
    }
   ],
   "source": [
    "credit = pd.read_csv('German_Credit_Preped.csv')\n",
    "print(credit.shape)\n",
    "credit.head()"
   ]
  },
  {
   "cell_type": "markdown",
   "metadata": {},
   "source": [
    "有22列，1个客户标识符列，20个特征，即标签列。 这些功能代表银行对其客户所掌握的信息。"
   ]
  },
  {
   "cell_type": "markdown",
   "metadata": {},
   "source": [
    "您应该了解此数据集的另一个方面。 该标签具有显着的**类不平衡**。 类不平衡意味着标签类别的案例数量不等。\n",
    "\n",
    "要检查这些数据中的类不平衡，请执行下面单元格中的代码。"
   ]
  },
  {
   "cell_type": "code",
   "execution_count": 6,
   "metadata": {},
   "outputs": [
    {
     "name": "stdout",
     "output_type": "stream",
     "text": [
      "            credit_history\n",
      "bad_credit                \n",
      "0                      700\n",
      "1                      300\n"
     ]
    }
   ],
   "source": [
    "credit_counts = credit[['credit_history', 'bad_credit']].groupby('bad_credit').count()\n",
    "print(credit_counts)"
   ]
  },
  {
   "cell_type": "markdown",
   "metadata": {},
   "source": [
    "请注意，只有30％的案例有不良信用。 这并不奇怪，因为银行通常会保留信誉良好的客户。 然而，这种不平衡将影响模型的训练。\n"
   ]
  },
  {
   "cell_type": "markdown",
   "metadata": {},
   "source": [
    "\n",
    "## 准备scikit-learn模型所需的数据\n",
    "\n",
    "准备好数据后，就可以创建scikit-learn模型所需的numpy数组了。\n",
    "\n",
    "下面单元格中的代码创建了一个标准值的numpy数组，执行此代码：\n"
   ]
  },
  {
   "cell_type": "code",
   "execution_count": 10,
   "metadata": {},
   "outputs": [],
   "source": [
    "labels = np.array(credit['bad_credit'])"
   ]
  },
  {
   "cell_type": "markdown",
   "metadata": {},
   "source": [
    "现在，您需要创建numpy特征数组或**模型矩阵**。 作为第一步，分类变量需要重新编码为二进制虚拟变量。 如另一课所述，这是一个三步过程：\n",
    "\n",
    "1. 将分类字符串变量编码为整数。\n",
    "2. 将整数编码变量转换为虚拟变量。\n",
    "3. 将每个虚拟编码分类变量附加到模型矩阵。\n",
    "\n",
    "执行下面单元格中的代码以执行此处理并检查结果："
   ]
  },
  {
   "cell_type": "code",
   "execution_count": 11,
   "metadata": {},
   "outputs": [
    {
     "name": "stdout",
     "output_type": "stream",
     "text": [
      "(1000, 31)\n",
      "[[0. 1. 0. 0. 0. 1. 0. 0. 0. 0. 0. 0. 0. 0. 0. 0. 1. 0. 0. 0. 0. 0. 1. 0.\n",
      "  0. 0. 1. 0. 0. 1. 0.]\n",
      " [1. 0. 0. 0. 0. 0. 1. 0. 0. 0. 0. 0. 0. 0. 0. 0. 1. 0. 0. 1. 0. 0. 0. 0.\n",
      "  1. 0. 0. 0. 0. 1. 0.]]\n"
     ]
    }
   ],
   "source": [
    "def encode_string(cat_features):\n",
    "    ## First encode the strings to numeric categories\n",
    "    enc = preprocessing.LabelEncoder()\n",
    "    enc.fit(cat_features)\n",
    "    enc_cat_features = enc.transform(cat_features)\n",
    "    ## Now, apply one hot encoding\n",
    "    ohe = preprocessing.OneHotEncoder()\n",
    "    encoded = ohe.fit(enc_cat_features.reshape(-1,1))\n",
    "    return encoded.transform(enc_cat_features.reshape(-1,1)).toarray()\n",
    "\n",
    "categorical_columns = ['credit_history', 'purpose', 'gender_status', \n",
    "                       'time_in_residence', 'property']\n",
    "\n",
    "Features = encode_string(credit['checking_account_status'])\n",
    "for col in categorical_columns:\n",
    "    temp = encode_string(credit[col])\n",
    "    Features = np.concatenate([Features, temp], axis = 1)\n",
    "\n",
    "print(Features.shape)\n",
    "print(Features[:2, :])    "
   ]
  },
  {
   "cell_type": "markdown",
   "metadata": {},
   "source": [
    "接下来，必须通过执行下面单元格中的代码将数字特征连接到numpy数组。"
   ]
  },
  {
   "cell_type": "code",
   "execution_count": 12,
   "metadata": {},
   "outputs": [
    {
     "name": "stdout",
     "output_type": "stream",
     "text": [
      "(1000, 35)\n",
      "[[0.000e+00 1.000e+00 0.000e+00 0.000e+00 0.000e+00 1.000e+00 0.000e+00\n",
      "  0.000e+00 0.000e+00 0.000e+00 0.000e+00 0.000e+00 0.000e+00 0.000e+00\n",
      "  0.000e+00 0.000e+00 1.000e+00 0.000e+00 0.000e+00 0.000e+00 0.000e+00\n",
      "  0.000e+00 1.000e+00 0.000e+00 0.000e+00 0.000e+00 1.000e+00 0.000e+00\n",
      "  0.000e+00 1.000e+00 0.000e+00 6.000e+00 1.169e+03 4.000e+00 6.700e+01]\n",
      " [1.000e+00 0.000e+00 0.000e+00 0.000e+00 0.000e+00 0.000e+00 1.000e+00\n",
      "  0.000e+00 0.000e+00 0.000e+00 0.000e+00 0.000e+00 0.000e+00 0.000e+00\n",
      "  0.000e+00 0.000e+00 1.000e+00 0.000e+00 0.000e+00 1.000e+00 0.000e+00\n",
      "  0.000e+00 0.000e+00 0.000e+00 1.000e+00 0.000e+00 0.000e+00 0.000e+00\n",
      "  0.000e+00 1.000e+00 0.000e+00 4.800e+01 5.951e+03 2.000e+00 2.200e+01]]\n"
     ]
    }
   ],
   "source": [
    "Features = np.concatenate([Features, np.array(credit[['loan_duration_mo', 'loan_amount', \n",
    "                            'payment_pcnt_income', 'age_yrs']])], axis = 1)\n",
    "print(Features.shape)\n",
    "print(Features[:2, :])   "
   ]
  },
  {
   "cell_type": "markdown",
   "metadata": {},
   "source": [
    "使用虚拟变量，原始的6个分类特征现在是31个虚拟变量。 4个数字功能共有35个。\n"
   ]
  },
  {
   "cell_type": "markdown",
   "metadata": {},
   "source": [
    "您必须将案例拆分为训练和测试数据集。 这一步至关重要。 如果在训练数据上测试机器学习模型，结果将是偏向和过于乐观的。\n",
    "\n",
    "下面单元格中的代码执行以下处理：\n",
    "1. 索引向量是使用scikit-learn的`model_selection`包中的`train_test_split`函数进行伯努利采样的。\n",
    "2. 结果索引数组的第一列包含训练用例的样本索引。\n",
    "3. 结果索引数组的第二列包含测试用例的样本索引。\n",
    "\n",
    "执行代码：\n"
   ]
  },
  {
   "cell_type": "code",
   "execution_count": 13,
   "metadata": {},
   "outputs": [],
   "source": [
    "## Randomly sample cases to create independent training and test data\n",
    "nr.seed(9988)\n",
    "indx = range(Features.shape[0])\n",
    "indx = ms.train_test_split(indx, test_size = 300)\n",
    "X_train = Features[indx[0],:]\n",
    "y_train = np.ravel(labels[indx[0]])\n",
    "X_test = Features[indx[1],:]\n",
    "y_test = np.ravel(labels[indx[1]])"
   ]
  },
  {
   "cell_type": "markdown",
   "metadata": {},
   "source": [
    "准备这些数据还有一个步骤。 必须重新调整数字特征，以使它们具有相似的值范围。 \n",
    "\n",
    "下面单元格中的代码使用Scikit Learn预处理包中的StanardScaler函数来缩放数字特征。"
   ]
  },
  {
   "cell_type": "code",
   "execution_count": 14,
   "metadata": {},
   "outputs": [
    {
     "data": {
      "text/plain": [
       "array([[ 1.00000000e+00,  0.00000000e+00,  0.00000000e+00,\n",
       "         0.00000000e+00,  0.00000000e+00,  1.00000000e+00,\n",
       "         0.00000000e+00,  0.00000000e+00,  0.00000000e+00,\n",
       "         0.00000000e+00,  0.00000000e+00,  0.00000000e+00,\n",
       "         0.00000000e+00,  0.00000000e+00,  0.00000000e+00,\n",
       "         0.00000000e+00,  1.00000000e+00,  0.00000000e+00,\n",
       "         0.00000000e+00,  0.00000000e+00,  0.00000000e+00,\n",
       "         0.00000000e+00,  1.00000000e+00,  0.00000000e+00,\n",
       "         1.00000000e+00,  0.00000000e+00,  0.00000000e+00,\n",
       "         0.00000000e+00,  0.00000000e+00,  1.00000000e+00,\n",
       "         0.00000000e+00,  3.90000000e+01,  4.93300000e+03,\n",
       "         2.00000000e+00, -9.33823618e-01],\n",
       "       [ 0.00000000e+00,  1.00000000e+00,  0.00000000e+00,\n",
       "         0.00000000e+00,  0.00000000e+00,  0.00000000e+00,\n",
       "         1.00000000e+00,  0.00000000e+00,  0.00000000e+00,\n",
       "         0.00000000e+00,  0.00000000e+00,  0.00000000e+00,\n",
       "         0.00000000e+00,  0.00000000e+00,  1.00000000e+00,\n",
       "         0.00000000e+00,  0.00000000e+00,  0.00000000e+00,\n",
       "         0.00000000e+00,  1.00000000e+00,  0.00000000e+00,\n",
       "         0.00000000e+00,  0.00000000e+00,  0.00000000e+00,\n",
       "         1.00000000e+00,  0.00000000e+00,  0.00000000e+00,\n",
       "         1.00000000e+00,  0.00000000e+00,  0.00000000e+00,\n",
       "         0.00000000e+00,  2.40000000e+01,  7.72100000e+03,\n",
       "         1.00000000e+00, -4.95232278e-01]])"
      ]
     },
     "execution_count": 14,
     "metadata": {},
     "output_type": "execute_result"
    }
   ],
   "source": [
    "scaler = preprocessing.StandardScaler().fit(X_train[:,34:])\n",
    "X_train[:,34:] = scaler.transform(X_train[:,34:])\n",
    "X_test[:,34:] = scaler.transform(X_test[:,34:])\n",
    "X_train[:2,]"
   ]
  },
  {
   "cell_type": "markdown",
   "metadata": {},
   "source": [
    "\n",
    "\n",
    "## 构建逻辑回归模型\n",
    "\n",
    "现在，是时候计算逻辑回归模型了。 下面单元格中的代码执行以下操作：\n",
    "1.使用scikit-learn`linear_model`包中的`LogisticRegression`方法定义逻辑回归模型对象。\n",
    "2.使用功能的numpy数组和训练数据集的标签拟合线性模型。\n",
    "\n",
    "执行此代码："
   ]
  },
  {
   "cell_type": "code",
   "execution_count": 15,
   "metadata": {},
   "outputs": [
    {
     "data": {
      "text/plain": [
       "LogisticRegression(C=1.0, class_weight=None, dual=False, fit_intercept=True,\n",
       "          intercept_scaling=1, max_iter=100, multi_class='ovr', n_jobs=1,\n",
       "          penalty='l2', random_state=None, solver='liblinear', tol=0.0001,\n",
       "          verbose=0, warm_start=False)"
      ]
     },
     "execution_count": 15,
     "metadata": {},
     "output_type": "execute_result"
    }
   ],
   "source": [
    "logistic_mod = linear_model.LogisticRegression() \n",
    "logistic_mod.fit(X_train, y_train)"
   ]
  },
  {
   "cell_type": "markdown",
   "metadata": {},
   "source": [
    "该模型已经计算出来了。 请注意，已打印模型对象的配置。 在这种情况下，仅显示默认设置，因为没有给出创建模型对象的参数。"
   ]
  },
  {
   "cell_type": "markdown",
   "metadata": {},
   "source": [
    "现在，通过执行下面单元格中的代码来打印和检查模型系数："
   ]
  },
  {
   "cell_type": "code",
   "execution_count": 16,
   "metadata": {},
   "outputs": [
    {
     "name": "stdout",
     "output_type": "stream",
     "text": [
      "[-0.75272435]\n",
      "[[ 4.58331724e-03  7.36655115e-01 -2.92902473e-01 -1.20106031e+00\n",
      "   3.96176830e-01 -1.10844192e+00 -4.17435677e-01  7.61461074e-01\n",
      "  -3.84484657e-01 -7.13338117e-02  4.84397335e-01 -6.40142587e-01\n",
      "   1.08060282e-01  1.38739231e-01  2.74596025e-02 -2.49644445e-01\n",
      "  -3.97846781e-01  6.27522813e-02 -2.15165460e-01 -1.10153109e-01\n",
      "   5.22237639e-02 -8.74364862e-02 -6.07358520e-01 -5.31756945e-01\n",
      "   2.04223418e-01 -3.59360554e-01 -6.58302701e-02 -2.64901324e-01\n",
      "  -8.30279843e-02 -5.32576716e-01  1.27781674e-01  2.27780865e-02\n",
      "   5.81879274e-05  1.97556732e-01 -1.74961672e-01]]\n"
     ]
    }
   ],
   "source": [
    "print(logistic_mod.intercept_)\n",
    "print(logistic_mod.coef_)"
   ]
  },
  {
   "cell_type": "markdown",
   "metadata": {},
   "source": [
    "首先，请注意模型系数看起来与回归模型一样。 如前所述，这是符合预期的。 此外，考虑到特征的数量，几乎所有系数具有相同的幅度，表明该模型可能过度拟合。"
   ]
  },
  {
   "cell_type": "markdown",
   "metadata": {},
   "source": [
    "回想一下逻辑回归模型输出的每个类的概率，将概率最高的类别作为分数（预测）。 执行下面的代码和单元格以计算和显示测试特征集的这些类概率的样本。"
   ]
  },
  {
   "cell_type": "code",
   "execution_count": 17,
   "metadata": {},
   "outputs": [
    {
     "name": "stdout",
     "output_type": "stream",
     "text": [
      "[[0.84511844 0.15488156]\n",
      " [0.39743042 0.60256958]\n",
      " [0.94262148 0.05737852]\n",
      " [0.32302235 0.67697765]\n",
      " [0.55221258 0.44778742]\n",
      " [0.9733398  0.0266602 ]\n",
      " [0.94899016 0.05100984]\n",
      " [0.62658645 0.37341355]\n",
      " [0.87725108 0.12274892]\n",
      " [0.927682   0.072318  ]\n",
      " [0.56204145 0.43795855]\n",
      " [0.4054608  0.5945392 ]\n",
      " [0.50097395 0.49902605]\n",
      " [0.67093045 0.32906955]\n",
      " [0.34388014 0.65611986]]\n"
     ]
    }
   ],
   "source": [
    "probabilities = logistic_mod.predict_proba(X_test)\n",
    "print(probabilities[:15,:])"
   ]
  },
  {
   "cell_type": "markdown",
   "metadata": {},
   "source": [
    "第一列是得分为 $0$的概率，第二列是得分为$1$的概率。 请注意，对于大多数情况，但并非所有情况，分数为$0$的概率高于 $1$。\n"
   ]
  },
  {
   "cell_type": "markdown",
   "metadata": {},
   "source": [
    "\n",
    "## 评分并评估分类模型\n",
    "\n",
    "现在已经计算了类概率，这些值必须转换为实际的类得分。 回想一下，通过将sigmoid或logistic变换应用于线性模型的输出是通过来计算两类逻辑回归的对数似然估计值作为sigmoid的输入。 简单的选择是将两个可能性之间的阈值设置为 $0.5$。 下面单元格中的代码将此初始阈值应用于测试数据的分数为 $0$的概率。 然后显示一些样本以及其已知标签。 执行此代码并检查结果：\n"
   ]
  },
  {
   "cell_type": "code",
   "execution_count": 18,
   "metadata": {},
   "outputs": [
    {
     "name": "stdout",
     "output_type": "stream",
     "text": [
      "[0 1 0 1 0 0 0 0 0 0 0 1 0 0 1]\n",
      "[0 0 0 1 0 0 0 0 1 0 0 1 1 0 1]\n"
     ]
    }
   ],
   "source": [
    "def score_model(probs, threshold):\n",
    "    return np.array([1 if x > threshold else 0 for x in probs[:,1]])\n",
    "scores = score_model(probabilities, 0.5)\n",
    "print(np.array(scores[:15]))\n",
    "print(y_test[:15])"
   ]
  },
  {
   "cell_type": "markdown",
   "metadata": {},
   "source": [
    "一些正面($1$)预测与第二行中的测试标签一致，但有几个没有。"
   ]
  },
  {
   "cell_type": "markdown",
   "metadata": {},
   "source": [
    "根据测试数据的结果，如何量化模型的性能？ 通常，必须**始终使用多个指标来评估任何机器学习模型**的性能，包括分类器。\n",
    "\n",
    "对于分类器，通常使用许多度量。 **混淆矩阵**以表格格式列出正确和错误分类的案例。 从混淆矩阵中的值导出各种度量。 下面简要回顾一些常见的病例划分。\n",
    "\n",
    "**混淆矩阵**\n",
    "\n",
    "如上所述，对于二进制（两类）情况，混淆矩阵的组织如下：\n",
    "\n",
    "![](img/Confusion-matrix-for-a-two-class-problem.png)\n",
    "<center> **Confusion matrix for a two class problem**</center>\n",
    "\n",
    "![](img/ConfusionMatrix.jpg)\n",
    "<center> **ConfusionMatrix**</center>\n",
    "\n",
    "这里矩阵中的四个元素定义为：\n",
    "\n",
    "**真阳性**或**TP**是具有阳性标签且已被正确分类为阳性的病例。\n",
    "\n",
    "**真阴性**或**TN**是具有阴性标签且已被正确归类为阴性的病例。\n",
    "\n",
    "**假阳性**或**FP**是阴性标签被错误归类为阳性的病例。\n",
    "\n",
    "**假阴性**或**FN**是阳性标签被错误归类为阴性的病例。\n",
    "\n",
    "\n",
    "在创建混淆矩阵时，理解用于区分正面和负面标签值的定义非常重要。通常的惯例是将 $1$ 置为正面，将$0$ 称为负面。\n",
    "\n",
    "请注意，存在歧义的情况下，认为是正的案例，在计算混淆矩阵时可能被认为是负的。每当你检查一个混淆矩阵时，请花一点时间决定哪个是哪个此步骤将帮助您将结果与手头的问题联系起来。\n",
    "\n",
    "\n",
    "**准确性Accuracy**\n",
    "\n",
    "对于两级分类器，准确度写为：\n",
    "\n",
    "$$Accuracy = \\frac{TP+TN}{TP+FP+TN+FN}$$\n",
    "\n",
    "准确性可能会产生误导。 例如，假设分类器用于检测欺诈帐户，并且欺诈率小于1％。 一个天真的模型就是说所有账户都不是欺诈性的。 该型号的精度超过0.99。 这听起来令人印象深刻，但显然毫无用处。\n",
    "\n",
    "**精确性Precision**\n",
    "\n",
    "我们可以通过以下关系表达精确度：\n",
    "\n",
    "$$Precision = \\frac{M_{i,i}}{\\sum_j M_{i,j}}$$\n",
    "\n",
    " \n",
    "**召回率Recall**\n",
    "\n",
    "\n",
    "$$Recall = \\frac{M_{i,i}}{\\sum_i M_{i,j}}$$\n",
    "\n",
    "\n",
    "**F1**\n",
    "\n",
    "F1统计量是精确度和召回率的加权平均值。 我们可以通过以下关系表达F1：\n",
    "\n",
    "$$F1 = 2 * \\frac{precision * recall}{precision + recall}$$\n",
    "\n",
    "换句话说，F1是整体模型性能的加权度量。\n",
    "\n",
    "**ROC** 和 **AUC**\n",
    "\n",
    "受试者操作曲线或ROC是显示垂直轴上的真阳性率与水平轴上的假阳性率之间的关系的曲线。 ROC曲线显示了真阳性率和假阳性率之间的权衡。 下面举例说明。\n",
    "\n",
    "原则上，您可以在此曲线上为分类器选择所需的操作点。 向左倾向于低假阳性率而牺牲真阳性率。 向右倾向有利于高真阳性率而牺牲更高的假阳性率。\n",
    "\n",
    "\n",
    "\n",
    "<img src=\"img/ROC_AUC.JPG\" alt=\"drawing\" width=\"480px\"/>\n",
    "\n",
    "<center>**ROC curve with values of AUC for balanced two-class problem**</center>\n",
    "\n",
    "AUC是ROC曲线下的面积或积分。分类器的整体性能通过曲线下面积或AUC来测量。但是，您如何解释特定的AUC值？ AUC越高，达到所需真阳性率时所需的假阳性率增加越低。对于理想的分类器，AUC为1.0。使用0误报率实现真正的正率。具有较高AUC的分类器通常是更好的分类器。\n",
    "\n",
    "对于平衡情况，随机猜测给出AUC或为0.5。平衡的样本具有相同数量的正面和负面案例。因此，对于正例，伯努利采样（随机猜测）的概率为$p$，将产生一条ROC曲线，该曲线从$0.0,0.0$对角线运行到$1.0,1.0$。该三角形区域下的面积为0.5，通常认为AUC大于0.5的分类器优于随机猜测。但是，**对于不平衡类的情况，这种说法一般不是真的**。\n",
    "\n",
    "****\n",
    "**注意：**术语接收器操作特性在机器学习环境中可能看起来有点奇怪。该术语在雷达工程的早期出现，作为衡量雷达信号接收器正确检测目标（例如飞机）和产生噪声的正响应（如飞鸟或云）之间的权衡的度量。雷达接收器将沿其ROC曲线调整到所需的工作点。\n",
    "****\n",
    "\n"
   ]
  },
  {
   "cell_type": "markdown",
   "metadata": {},
   "source": [
    "下面单元格中的代码实现了一个计算和显示前面提到的分类器性能指标的函数。 使用scikit-learn的`metrics`包中的`precision_recall_fscore_support`和`accuracy_score`函数计算度量。 使用来自同一包的`confusion_matrix`函数计算混淆矩阵，执行此代码并检查逻辑回归模型的结果：\n"
   ]
  },
  {
   "cell_type": "code",
   "execution_count": 19,
   "metadata": {},
   "outputs": [
    {
     "name": "stdout",
     "output_type": "stream",
     "text": [
      "                 Confusion matrix\n",
      "                 Score positive    Score negative\n",
      "Actual positive       182                30\n",
      "Actual negative        39                49\n",
      "\n",
      "Accuracy  0.77\n",
      " \n",
      "           Positive      Negative\n",
      "Num case      212            88\n",
      "Precision    0.82          0.62\n",
      "Recall       0.86          0.56\n",
      "F1           0.84          0.59\n"
     ]
    }
   ],
   "source": [
    "def print_metrics(labels, scores):\n",
    "    metrics = sklm.precision_recall_fscore_support(labels, scores)\n",
    "    conf = sklm.confusion_matrix(labels, scores)\n",
    "    print('                 Confusion matrix')\n",
    "    print('                 Score positive    Score negative')\n",
    "    print('Actual positive    %6d' % conf[0,0] + '             %5d' % conf[0,1])\n",
    "    print('Actual negative    %6d' % conf[1,0] + '             %5d' % conf[1,1])\n",
    "    print('')\n",
    "    print('Accuracy  %0.2f' % sklm.accuracy_score(labels, scores))\n",
    "    print(' ')\n",
    "    print('           Positive      Negative')\n",
    "    print('Num case   %6d' % metrics[3][0] + '        %6d' % metrics[3][1])\n",
    "    print('Precision  %6.2f' % metrics[0][0] + '        %6.2f' % metrics[0][1])\n",
    "    print('Recall     %6.2f' % metrics[1][0] + '        %6.2f' % metrics[1][1])\n",
    "    print('F1         %6.2f' % metrics[2][0] + '        %6.2f' % metrics[2][1])\n",
    "\n",
    "\n",
    "    \n",
    "print_metrics(y_test, scores)    "
   ]
  },
  {
   "cell_type": "markdown",
   "metadata": {},
   "source": [
    "检查这些结果：\n",
    "1. 混淆矩阵表明了以下特征; a）大多数阳性病例被正确分类，182对30，但是，b）阴性病例得分不正确，只有49个正确，而39个不正确。\n",
    "2. 总体准确度为0.77。然而，正如刚刚观察到的那样**极具误导性！**。事实上，负面案例的分类很差，银行最关心的是这些不良信用客户。这不是一个不寻常的案例，应始终将准确性数字视为抱有怀疑态度。\n",
    "3. 类别不平衡得到验证。在300个测试案例中，212个是正面的，88个是负面的。\n",
    "\n",
    "精确度，召回率和F1都表明阳性病例分类合理，但阴性病例则不然。如前所述，正是这些负面案例对银行来说至关重要。\n",
    "\n",
    "最后，下面单元格中的代码计算并显示ROC曲线和AUC。来自scikit-learn`metrics`包的`roc_curve`和`auc`函数用于计算这些值。\n"
   ]
  },
  {
   "cell_type": "code",
   "execution_count": 20,
   "metadata": {},
   "outputs": [
    {
     "data": {
      "image/png": "[encoded data removed]",
      "text/plain": [
       "<Figure size 432x288 with 1 Axes>"
      ]
     },
     "metadata": {
      "needs_background": "light"
     },
     "output_type": "display_data"
    }
   ],
   "source": [
    "def plot_auc(labels, probs):\n",
    "    ## Compute the false positive rate, true positive rate\n",
    "    ## and threshold along with the AUC\n",
    "    fpr, tpr, threshold = sklm.roc_curve(labels, probs[:,1])\n",
    "    auc = sklm.auc(fpr, tpr)\n",
    "    \n",
    "    ## Plot the result\n",
    "    plt.title('Receiver Operating Characteristic')\n",
    "    plt.plot(fpr, tpr, color = 'orange', label = 'AUC = %0.2f' % auc)\n",
    "    plt.legend(loc = 'lower right')\n",
    "    plt.plot([0, 1], [0, 1],'r--')\n",
    "    plt.xlim([0, 1])\n",
    "    plt.ylim([0, 1])\n",
    "    plt.ylabel('True Positive Rate')\n",
    "    plt.xlabel('False Positive Rate')\n",
    "    plt.show()\n",
    "    \n",
    "plot_auc(y_test, probabilities)    "
   ]
  },
  {
   "cell_type": "markdown",
   "metadata": {},
   "source": [
    "ROC曲线在对角红色虚线上方，AUC为0.77。 但是，考虑到每个负面案例的两个正面案例的类别不平衡性，这有多好？\n",
    "\n",
    "比较的一点是一个原始的“分类器”，它将所有案例都设置为正面。 下面单元格中的代码包含这样的分类器。运行此代码，并检查结果。\n",
    "\n",
    "最后，下面单元格中的代码计算并显示ROC曲线和AUC。 来自scikit-learn`metrics`包的`roc_curve`和`auc`函数用于计算这些值。\n",
    "\n"
   ]
  },
  {
   "cell_type": "code",
   "execution_count": 22,
   "metadata": {
    "scrolled": false
   },
   "outputs": [
    {
     "name": "stdout",
     "output_type": "stream",
     "text": [
      "                 Confusion matrix\n",
      "                 Score positive    Score negative\n",
      "Actual positive       212                 0\n",
      "Actual negative        88                 0\n",
      "\n",
      "Accuracy  0.71\n",
      " \n",
      "           Positive      Negative\n",
      "Num case      212            88\n",
      "Precision    0.71          0.00\n",
      "Recall       1.00          0.00\n",
      "F1           0.83          0.00\n"
     ]
    },
    {
     "name": "stderr",
     "output_type": "stream",
     "text": [
      "C:\\Anaconda3\\lib\\site-packages\\sklearn\\metrics\\classification.py:1135: UndefinedMetricWarning: Precision and F-score are ill-defined and being set to 0.0 in labels with no predicted samples.\n",
      "  'precision', 'predicted', average, warn_for)\n"
     ]
    },
    {
     "data": {
      "image/png": "[encoded data removed]",
      "text/plain": [
       "<Figure size 432x288 with 1 Axes>"
      ]
     },
     "metadata": {
      "needs_background": "light"
     },
     "output_type": "display_data"
    }
   ],
   "source": [
    "probs_positive = np.concatenate((np.ones((probabilities.shape[0], 1)), \n",
    "                                 np.zeros((probabilities.shape[0], 1))),\n",
    "                                 axis = 1)\n",
    "scores_positive = score_model(probs_positive, 0.5)\n",
    "print_metrics(y_test, scores_positive)  \n",
    "plot_auc(y_test, probs_positive) "
   ]
  },
  {
   "cell_type": "markdown",
   "metadata": {},
   "source": [
    "请注意，此“分类器”的准确度为0.71。 这反映了类别不平衡。 ROC曲线直接沿对角线，AUC为0.5。 逻辑回归分类器肯定比这更好！"
   ]
  },
  {
   "cell_type": "markdown",
   "metadata": {},
   "source": [
    "## 计算加权模型\n",
    "\n",
    "回想一下，错误地将不良信用风险客户归类为良好成本，使银行的成本比将良好信用风险客户分类为差5倍。 鉴于这种情况，第一个模型的结果并不那么好。 有两个原因：\n",
    "\n",
    "1. 标签中的类不平衡偏向于模型的训练。 正如您从原始“分类器”的准确性观察到的那样，与逻辑回归模型没有什么不同。\n",
    "2. 没有采取任何措施来对结果进行加权，以便以良好的信用风险客户为代价正确地对不良信用风险客户进行分类。\n",
    "\n",
    "解决这些问题的一种方法是在计算逻辑回归模型时对类进行加权。 下面单元格中的代码为`LogisticRegression`函数的调用添加了一个`class_weight`参数。 在这种情况下，权重选择为$0.45, 0.55$，但您也可以给出另一种组合。 执行此代码\n"
   ]
  },
  {
   "cell_type": "code",
   "execution_count": 23,
   "metadata": {
    "scrolled": true
   },
   "outputs": [
    {
     "data": {
      "text/plain": [
       "LogisticRegression(C=1.0, class_weight={0: 0.45, 1: 0.55}, dual=False,\n",
       "          fit_intercept=True, intercept_scaling=1, max_iter=100,\n",
       "          multi_class='ovr', n_jobs=1, penalty='l2', random_state=None,\n",
       "          solver='liblinear', tol=0.0001, verbose=0, warm_start=False)"
      ]
     },
     "execution_count": 23,
     "metadata": {},
     "output_type": "execute_result"
    }
   ],
   "source": [
    "logistic_mod = linear_model.LogisticRegression(class_weight = {0:0.45, 1:0.55}) \n",
    "logistic_mod.fit(X_train, y_train)"
   ]
  },
  {
   "cell_type": "markdown",
   "metadata": {},
   "source": [
    "接下来，执行下面单元格中的代码，计算并显示每种情况的概率。"
   ]
  },
  {
   "cell_type": "code",
   "execution_count": 24,
   "metadata": {},
   "outputs": [
    {
     "name": "stdout",
     "output_type": "stream",
     "text": [
      "[[0.81450613 0.18549387]\n",
      " [0.35338572 0.64661428]\n",
      " [0.92963561 0.07036439]\n",
      " [0.28795618 0.71204382]\n",
      " [0.52008265 0.47991735]\n",
      " [0.96191182 0.03808818]\n",
      " [0.92875665 0.07124335]\n",
      " [0.57782686 0.42217314]\n",
      " [0.84875307 0.15124693]\n",
      " [0.89692827 0.10307173]\n",
      " [0.52185474 0.47814526]\n",
      " [0.37615598 0.62384402]\n",
      " [0.46802562 0.53197438]\n",
      " [0.6380623  0.3619377 ]\n",
      " [0.31248832 0.68751168]]\n"
     ]
    }
   ],
   "source": [
    "probabilities = logistic_mod.predict_proba(X_test)\n",
    "print(probabilities[:15,:])"
   ]
  },
  {
   "cell_type": "markdown",
   "metadata": {},
   "source": [
    "上述概率与未加权模型没有太大差别。"
   ]
  },
  {
   "cell_type": "markdown",
   "metadata": {},
   "source": [
    "要查找未加权模型是否存在任何显着差异，请计算得分和指标，并通过执行下面单元格中的代码来显示指标。\n"
   ]
  },
  {
   "cell_type": "code",
   "execution_count": 25,
   "metadata": {
    "scrolled": false
   },
   "outputs": [
    {
     "name": "stdout",
     "output_type": "stream",
     "text": [
      "                 Confusion matrix\n",
      "                 Score positive    Score negative\n",
      "Actual positive       177                35\n",
      "Actual negative        34                54\n",
      "\n",
      "Accuracy  0.77\n",
      " \n",
      "           Positive      Negative\n",
      "Num case      212            88\n",
      "Precision    0.84          0.61\n",
      "Recall       0.83          0.61\n",
      "F1           0.84          0.61\n"
     ]
    },
    {
     "data": {
      "image/png": "[encoded data removed]",
      "text/plain": [
       "<Figure size 432x288 with 1 Axes>"
      ]
     },
     "metadata": {
      "needs_background": "light"
     },
     "output_type": "display_data"
    }
   ],
   "source": [
    "scores = score_model(probabilities, 0.5)\n",
    "print_metrics(y_test, scores)  \n",
    "plot_auc(y_test, probabilities)  "
   ]
  },
  {
   "cell_type": "markdown",
   "metadata": {},
   "source": [
    "相对于未加权模型，精度略有变化。 如果我们给予其中一个级别比我们在这里做的更多权重，那么改变可能会更多。 对于负面情况，精度，召回率和F1略好一些。 重新加权标签已将结果稍稍移动到所需方向。\n",
    "\n",
    "另请注意，ROC曲线和AUC基本不变。 真阳性和假阳性之间的权衡与未加权模型类似。\n"
   ]
  },
  {
   "cell_type": "markdown",
   "metadata": {},
   "source": [
    "\n",
    "## 找到更好的阈值\n",
    "\n",
    "还有另一种方法可以使模型评分倾向于正确识别不良信用案例。 评分阈值可以调整。 到目前为止，已使用阈值0.5从概率计算得分。 但是，没有理由认为这是正确的选择。 回想一下，通过沿S形函数或逻辑函数设置阈值来确定分数。 通过沿此曲线更改阈值，可以支持正面或负面情况。\n",
    "\n",
    "下面单元格中的代码包含用于对给定阈值的模型进行评分和评估的函数。 `for`循环遍历五个候选阈值的列表。 执行此代码并检查更改阈值如何更改模型的评分。\n"
   ]
  },
  {
   "cell_type": "code",
   "execution_count": 26,
   "metadata": {},
   "outputs": [
    {
     "name": "stdout",
     "output_type": "stream",
     "text": [
      "\n",
      "For threshold = 0.45\n",
      "                 Confusion matrix\n",
      "                 Score positive    Score negative\n",
      "Actual positive       164                48\n",
      "Actual negative        29                59\n",
      "\n",
      "Accuracy  0.74\n",
      " \n",
      "           Positive      Negative\n",
      "Num case      212            88\n",
      "Precision    0.85          0.55\n",
      "Recall       0.77          0.67\n",
      "F1           0.81          0.61\n",
      "\n",
      "For threshold = 0.4\n",
      "                 Confusion matrix\n",
      "                 Score positive    Score negative\n",
      "Actual positive       151                61\n",
      "Actual negative        26                62\n",
      "\n",
      "Accuracy  0.71\n",
      " \n",
      "           Positive      Negative\n",
      "Num case      212            88\n",
      "Precision    0.85          0.50\n",
      "Recall       0.71          0.70\n",
      "F1           0.78          0.59\n",
      "\n",
      "For threshold = 0.35\n",
      "                 Confusion matrix\n",
      "                 Score positive    Score negative\n",
      "Actual positive       142                70\n",
      "Actual negative        22                66\n",
      "\n",
      "Accuracy  0.69\n",
      " \n",
      "           Positive      Negative\n",
      "Num case      212            88\n",
      "Precision    0.87          0.49\n",
      "Recall       0.67          0.75\n",
      "F1           0.76          0.59\n",
      "\n",
      "For threshold = 0.3\n",
      "                 Confusion matrix\n",
      "                 Score positive    Score negative\n",
      "Actual positive       123                89\n",
      "Actual negative        19                69\n",
      "\n",
      "Accuracy  0.64\n",
      " \n",
      "           Positive      Negative\n",
      "Num case      212            88\n",
      "Precision    0.87          0.44\n",
      "Recall       0.58          0.78\n",
      "F1           0.69          0.56\n",
      "\n",
      "For threshold = 0.25\n",
      "                 Confusion matrix\n",
      "                 Score positive    Score negative\n",
      "Actual positive       117                95\n",
      "Actual negative        17                71\n",
      "\n",
      "Accuracy  0.63\n",
      " \n",
      "           Positive      Negative\n",
      "Num case      212            88\n",
      "Precision    0.87          0.43\n",
      "Recall       0.55          0.81\n",
      "F1           0.68          0.56\n"
     ]
    }
   ],
   "source": [
    "def test_threshold(probs, labels, threshold):\n",
    "    scores = score_model(probs, threshold)\n",
    "    print('')\n",
    "    print('For threshold = ' + str(threshold))\n",
    "    print_metrics(labels, scores)\n",
    "\n",
    "thresholds = [0.45, 0.40, 0.35, 0.3, 0.25]\n",
    "for t in thresholds:\n",
    "    test_threshold(probabilities, y_test, t)"
   ]
  },
  {
   "cell_type": "markdown",
   "metadata": {},
   "source": [
    "随着阈值降低，正确分类的负面案例（不良信用客户）的数量增加，代价是正面分类肯定案例（良好信用客户）。 同时，准确度降低。 但是，正如您所观察到的，准确性在这里并不是一个特别有用的指标。\n",
    "\n",
    "究竟选择哪个门槛是商业决策。 请注意，如果阈值为0.25，则假阴性（错误分类的良好信用客户）的数量约为误报（错误分类的不良信用客户）的四倍。\n"
   ]
  },
  {
   "cell_type": "markdown",
   "metadata": {},
   "source": [
    "\n",
    "## 总结\n",
    "\n",
    "在本课程中，您已完成以下操作：\n",
    "1.使用scikit-learn为建模准备信用风险数据集。 这些步骤包括缩放数字特征，以及编码分类特征的虚拟变量。 结果是一个numpy特征数组和一个numpy标签值数组。\n",
    "2.计算逻辑回归模型。\n",
    "3.使用多个指标评估模块的性能。 很明显，准确度在这里并不是一个特别有用的指标。 原始的“分类器”产生的准确性只是由于类别不平衡而稍微恶化。 混淆矩阵和精度，召回和F1统计数据给出了有意义的模型性能测量，特别是在一起考虑时。\n",
    "4.重新加权标签并更改重新加权模型的决策阈值。 这些步骤有助于克服类别不平衡问题造成的银行错误分类的不对称成本。\n"
   ]
  }
 ],
 "metadata": {
  "kernelspec": {
   "display_name": "Python 3",
   "language": "python",
   "name": "python3"
  },
  "language_info": {
   "codemirror_mode": {
    "name": "ipython",
    "version": 3
   },
   "file_extension": ".py",
   "mimetype": "text/x-python",
   "name": "python",
   "nbconvert_exporter": "python",
   "pygments_lexer": "ipython3",
   "version": "3.7.0"
  }
 },
 "nbformat": 4,
 "nbformat_minor": 2
}
