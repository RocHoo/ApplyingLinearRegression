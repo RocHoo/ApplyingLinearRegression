{
 "cells": [
  {
   "cell_type": "markdown",
   "metadata": {},
   "source": [
    "\n",
    "# 回归的应用\n",
    "\n",
    "## 概述\n",
    "\n",
    "在本实验中，您将把回归应用于一些实际数据。 在本实验中，您将使用汽车价格数据集。 目标是构建一个线性回归模型，以根据其特征预测汽车价格。\n",
    "\n",
    "在本实验中将学习：\n",
    "\n",
    "1. 将分类数据与scikit-learn一起使用。\n",
    "2. 将转换应用于特征和标签以提高模型性能。\n",
    "3. 比较回归模型以提高模型性能。\n",
    " "
   ]
  },
  {
   "cell_type": "markdown",
   "metadata": {},
   "source": [
    "\n",
    "## 加载数据集\n",
    "\n",
    "首先，您将把数据集载入，执行下面单元格中的代码，加载剩余部分所需的软件包：\n"
   ]
  },
  {
   "cell_type": "code",
   "execution_count": 29,
   "metadata": {},
   "outputs": [],
   "source": [
    "import pandas as pd\n",
    "from sklearn import preprocessing\n",
    "import sklearn.model_selection as ms\n",
    "from sklearn import linear_model\n",
    "import sklearn.metrics as sklm\n",
    "import numpy as np\n",
    "import numpy.random as nr\n",
    "import matplotlib.pyplot as plt\n",
    "import seaborn as sns\n",
    "import scipy.stats as ss\n",
    "import math\n",
    "\n",
    "%matplotlib inline"
   ]
  },
  {
   "cell_type": "markdown",
   "metadata": {},
   "source": [
    "下面单元格中的代码用来加载，执行此代码并显示相应的列。"
   ]
  },
  {
   "cell_type": "code",
   "execution_count": 30,
   "metadata": {},
   "outputs": [
    {
     "data": {
      "text/plain": [
       "Index(['symboling', 'make', 'fuel_type', 'aspiration', 'num_of_doors',\n",
       "       'body_style', 'drive_wheels', 'engine_location', 'wheel_base', 'length',\n",
       "       'width', 'height', 'curb_weight', 'engine_type', 'num_of_cylinders',\n",
       "       'engine_size', 'fuel_system', 'bore', 'stroke', 'compression_ratio',\n",
       "       'horsepower', 'peak_rpm', 'city_mpg', 'highway_mpg', 'price',\n",
       "       'log_price'],\n",
       "      dtype='object')"
      ]
     },
     "execution_count": 30,
     "metadata": {},
     "output_type": "execute_result"
    }
   ],
   "source": [
    "auto_prices = pd.read_csv('Auto_Data_Preped.csv')\n",
    "auto_prices.columns"
   ]
  },
  {
   "cell_type": "code",
   "execution_count": 31,
   "metadata": {},
   "outputs": [
    {
     "data": {
      "text/html": [
       "<div>\n",
       "<style scoped>\n",
       "    .dataframe tbody tr th:only-of-type {\n",
       "        vertical-align: middle;\n",
       "    }\n",
       "\n",
       "    .dataframe tbody tr th {\n",
       "        vertical-align: top;\n",
       "    }\n",
       "\n",
       "    .dataframe thead th {\n",
       "        text-align: right;\n",
       "    }\n",
       "</style>\n",
       "<table border=\"1\" class=\"dataframe\">\n",
       "  <thead>\n",
       "    <tr style=\"text-align: right;\">\n",
       "      <th></th>\n",
       "      <th>symboling</th>\n",
       "      <th>make</th>\n",
       "      <th>fuel_type</th>\n",
       "      <th>aspiration</th>\n",
       "      <th>num_of_doors</th>\n",
       "      <th>body_style</th>\n",
       "      <th>drive_wheels</th>\n",
       "      <th>engine_location</th>\n",
       "      <th>wheel_base</th>\n",
       "      <th>length</th>\n",
       "      <th>...</th>\n",
       "      <th>fuel_system</th>\n",
       "      <th>bore</th>\n",
       "      <th>stroke</th>\n",
       "      <th>compression_ratio</th>\n",
       "      <th>horsepower</th>\n",
       "      <th>peak_rpm</th>\n",
       "      <th>city_mpg</th>\n",
       "      <th>highway_mpg</th>\n",
       "      <th>price</th>\n",
       "      <th>log_price</th>\n",
       "    </tr>\n",
       "  </thead>\n",
       "  <tbody>\n",
       "    <tr>\n",
       "      <th>0</th>\n",
       "      <td>3</td>\n",
       "      <td>alfa-romero</td>\n",
       "      <td>gas</td>\n",
       "      <td>std</td>\n",
       "      <td>two</td>\n",
       "      <td>hardtop_convert</td>\n",
       "      <td>rwd</td>\n",
       "      <td>front</td>\n",
       "      <td>88.6</td>\n",
       "      <td>168.8</td>\n",
       "      <td>...</td>\n",
       "      <td>mpfi</td>\n",
       "      <td>3.47</td>\n",
       "      <td>2.68</td>\n",
       "      <td>9.0</td>\n",
       "      <td>111</td>\n",
       "      <td>5000</td>\n",
       "      <td>21</td>\n",
       "      <td>27</td>\n",
       "      <td>13495</td>\n",
       "      <td>9.510075</td>\n",
       "    </tr>\n",
       "    <tr>\n",
       "      <th>1</th>\n",
       "      <td>3</td>\n",
       "      <td>alfa-romero</td>\n",
       "      <td>gas</td>\n",
       "      <td>std</td>\n",
       "      <td>two</td>\n",
       "      <td>hardtop_convert</td>\n",
       "      <td>rwd</td>\n",
       "      <td>front</td>\n",
       "      <td>88.6</td>\n",
       "      <td>168.8</td>\n",
       "      <td>...</td>\n",
       "      <td>mpfi</td>\n",
       "      <td>3.47</td>\n",
       "      <td>2.68</td>\n",
       "      <td>9.0</td>\n",
       "      <td>111</td>\n",
       "      <td>5000</td>\n",
       "      <td>21</td>\n",
       "      <td>27</td>\n",
       "      <td>16500</td>\n",
       "      <td>9.711116</td>\n",
       "    </tr>\n",
       "    <tr>\n",
       "      <th>2</th>\n",
       "      <td>1</td>\n",
       "      <td>alfa-romero</td>\n",
       "      <td>gas</td>\n",
       "      <td>std</td>\n",
       "      <td>two</td>\n",
       "      <td>hatchback</td>\n",
       "      <td>rwd</td>\n",
       "      <td>front</td>\n",
       "      <td>94.5</td>\n",
       "      <td>171.2</td>\n",
       "      <td>...</td>\n",
       "      <td>mpfi</td>\n",
       "      <td>2.68</td>\n",
       "      <td>3.47</td>\n",
       "      <td>9.0</td>\n",
       "      <td>154</td>\n",
       "      <td>5000</td>\n",
       "      <td>19</td>\n",
       "      <td>26</td>\n",
       "      <td>16500</td>\n",
       "      <td>9.711116</td>\n",
       "    </tr>\n",
       "    <tr>\n",
       "      <th>3</th>\n",
       "      <td>2</td>\n",
       "      <td>audi</td>\n",
       "      <td>gas</td>\n",
       "      <td>std</td>\n",
       "      <td>four</td>\n",
       "      <td>sedan</td>\n",
       "      <td>fwd</td>\n",
       "      <td>front</td>\n",
       "      <td>99.8</td>\n",
       "      <td>176.6</td>\n",
       "      <td>...</td>\n",
       "      <td>mpfi</td>\n",
       "      <td>3.19</td>\n",
       "      <td>3.40</td>\n",
       "      <td>10.0</td>\n",
       "      <td>102</td>\n",
       "      <td>5500</td>\n",
       "      <td>24</td>\n",
       "      <td>30</td>\n",
       "      <td>13950</td>\n",
       "      <td>9.543235</td>\n",
       "    </tr>\n",
       "    <tr>\n",
       "      <th>4</th>\n",
       "      <td>2</td>\n",
       "      <td>audi</td>\n",
       "      <td>gas</td>\n",
       "      <td>std</td>\n",
       "      <td>four</td>\n",
       "      <td>sedan</td>\n",
       "      <td>4wd</td>\n",
       "      <td>front</td>\n",
       "      <td>99.4</td>\n",
       "      <td>176.6</td>\n",
       "      <td>...</td>\n",
       "      <td>mpfi</td>\n",
       "      <td>3.19</td>\n",
       "      <td>3.40</td>\n",
       "      <td>8.0</td>\n",
       "      <td>115</td>\n",
       "      <td>5500</td>\n",
       "      <td>18</td>\n",
       "      <td>22</td>\n",
       "      <td>17450</td>\n",
       "      <td>9.767095</td>\n",
       "    </tr>\n",
       "  </tbody>\n",
       "</table>\n",
       "<p>5 rows × 26 columns</p>\n",
       "</div>"
      ],
      "text/plain": [
       "   symboling         make fuel_type aspiration num_of_doors       body_style  \\\n",
       "0          3  alfa-romero       gas        std          two  hardtop_convert   \n",
       "1          3  alfa-romero       gas        std          two  hardtop_convert   \n",
       "2          1  alfa-romero       gas        std          two        hatchback   \n",
       "3          2         audi       gas        std         four            sedan   \n",
       "4          2         audi       gas        std         four            sedan   \n",
       "\n",
       "  drive_wheels engine_location  wheel_base  length    ...      fuel_system  \\\n",
       "0          rwd           front        88.6   168.8    ...             mpfi   \n",
       "1          rwd           front        88.6   168.8    ...             mpfi   \n",
       "2          rwd           front        94.5   171.2    ...             mpfi   \n",
       "3          fwd           front        99.8   176.6    ...             mpfi   \n",
       "4          4wd           front        99.4   176.6    ...             mpfi   \n",
       "\n",
       "   bore  stroke compression_ratio horsepower  peak_rpm city_mpg  highway_mpg  \\\n",
       "0  3.47    2.68               9.0        111      5000       21           27   \n",
       "1  3.47    2.68               9.0        111      5000       21           27   \n",
       "2  2.68    3.47               9.0        154      5000       19           26   \n",
       "3  3.19    3.40              10.0        102      5500       24           30   \n",
       "4  3.19    3.40               8.0        115      5500       18           22   \n",
       "\n",
       "   price  log_price  \n",
       "0  13495   9.510075  \n",
       "1  16500   9.711116  \n",
       "2  16500   9.711116  \n",
       "3  13950   9.543235  \n",
       "4  17450   9.767095  \n",
       "\n",
       "[5 rows x 26 columns]"
      ]
     },
     "execution_count": 31,
     "metadata": {},
     "output_type": "execute_result"
    }
   ],
   "source": [
    "auto_prices.head()"
   ]
  },
  {
   "cell_type": "markdown",
   "metadata": {},
   "source": [
    "请注意，有数字和类别特征。"
   ]
  },
  {
   "cell_type": "markdown",
   "metadata": {},
   "source": [
    "## 准备模型矩阵。\n",
    "\n",
    "所有scikit-learn模型都需要一个numpy数组的仅数值的特征，得到的数组通常称为**模型矩阵**。\n",
    "\n",
    "要从包含数字和分类变量的案例创建模型矩阵，需要两个步骤。 首先，必须重新调整数字特征。 其次，必须将分类变量转换为一组**虚拟变量**，以编码每个类别的存在与否。\n"
   ]
  },
  {
   "cell_type": "markdown",
   "metadata": {},
   "source": [
    "### 从分类特征创建虚拟变量\n",
    "\n",
    "现在，您必须为分类特征创建虚拟变量。虚拟变量将分类特征编码为一组二进制变量。每个可能的类别都有一个虚拟变量。对于每种情况，虚拟变量中的所有值都设置为零，但对应于类别值的值除外，该值设置为1。通过这种方式，具有任意数量类别的分类变量可以被编码为scikit-learn可以操作的一系列数字特征。该过程被称为**一个热编码**，因为每个案例只有一个虚拟变量被编码为1（热）。\n",
    "\n",
    "`sklearn.preprocessing`包中包含的功能是将分类特征分两步编码为虚拟变量;\n",
    "\n",
    "1. 类别编码为以0开头的数字。例如，如果有5个类别，则将它们编码为集合$\\{ 0,1,2,3,4 \\}$。\n",
    "2. 然后将数字类别编码为虚拟变量。\n",
    "\n",
    "以下示例将让您了解此过程的工作原理。下面单元格中的代码通过以下步骤计算`body_style`特征的类别的数字表示：\n",
    "\n",
    "1. 使用`LabelEncoder`方法创建编码器对象。\n",
    "2. 编码器`fit`特征的唯一字符串值。\n",
    "3. 然后`transformation`方法将数字编码应用于原始特征。\n",
    "\n",
    "执行下面单元格中的代码并检查结果。\n"
   ]
  },
  {
   "cell_type": "code",
   "execution_count": 32,
   "metadata": {
    "scrolled": false
   },
   "outputs": [
    {
     "name": "stdout",
     "output_type": "stream",
     "text": [
      "['hardtop_convert' 'hatchback' 'sedan' 'wagon']\n",
      "[0 0 1 2 2 2 2 3 2 2 2 2 2 2 2 2 2 1 1 2 1 1 1 1 2 2 2 3 1 1 1 1 1 1 2 3 1\n",
      " 1 2 2 2 2 2 1 2 2 2 1 1 1 2 2 1 2 1 2 2 1 2 2 2 3 0 2 2 0 2 0 1 1 1 1 1 1\n",
      " 1 1 1 1 2 2 2 2 2 2 2 2 3 2 1 2 3 0 1 2 2 3 2 1 1 1 2 2 3 3 2 2 3 3 2 2 2\n",
      " 1 1 1 2 2 3 1 1 0 0 0 1 2 1 2 1 2 1 1 1 2 2 2 2 2 3 3 3 3 1 1 1 3 3 3 2 1\n",
      " 2 1 2 1 2 2 1 2 1 0 0 1 0 1 0 2 2 1 2 1 1 1 2 3 2 2 2 2 2 2 2 0 1 2 2 3 2\n",
      " 3 2 3 2 3 2 2 2 2 2]\n"
     ]
    }
   ],
   "source": [
    "print(auto_prices['body_style'].unique())\n",
    "Features = auto_prices['body_style']\n",
    "enc = preprocessing.LabelEncoder()\n",
    "enc.fit(Features)\n",
    "Features = enc.transform(Features)\n",
    "print(Features)"
   ]
  },
  {
   "cell_type": "markdown",
   "metadata": {},
   "source": [
    "请注意，此功能的五个原始正文样式类别现在在集合$\\{ 0,1,2,3,4 \\}$中编码为整数。\n",
    "\n",
    "对于该过程的下一步，按照以下步骤将数字编码的分类变量转换为一组虚拟变量：\n",
    "1. 使用`sklearn.preprocessing`模块中的`OneHotEncoder`方法创建一个热编码器对象。\n",
    "2. 数字编码的分类特征适合于一个热编码器。\n",
    "3. 虚拟变量在编码上使用`transform`方法编码。\n",
    "\n",
    "执行下面单元格中的代码并检查结果："
   ]
  },
  {
   "cell_type": "code",
   "execution_count": 33,
   "metadata": {
    "scrolled": true
   },
   "outputs": [
    {
     "data": {
      "text/plain": [
       "array([[1., 0., 0., 0.],\n",
       "       [1., 0., 0., 0.],\n",
       "       [0., 1., 0., 0.],\n",
       "       [0., 0., 1., 0.],\n",
       "       [0., 0., 1., 0.],\n",
       "       [0., 0., 1., 0.],\n",
       "       [0., 0., 1., 0.],\n",
       "       [0., 0., 0., 1.],\n",
       "       [0., 0., 1., 0.],\n",
       "       [0., 0., 1., 0.]])"
      ]
     },
     "execution_count": 33,
     "metadata": {},
     "output_type": "execute_result"
    }
   ],
   "source": [
    "ohe = preprocessing.OneHotEncoder()\n",
    "encoded = ohe.fit(Features.reshape(-1,1))\n",
    "Features = encoded.transform(Features.reshape(-1,1)).toarray()\n",
    "Features[:10,:]"
   ]
  },
  {
   "cell_type": "markdown",
   "metadata": {},
   "source": [
    "请注意，`body_style`功能已编码为五列，这些列中的每一列都是表示一个类别的虚拟变量，每行有一个且只有一个虚拟变量，其中一个为1，其余为0。 这是一个热编码。\n",
    "\n",
    "现在，您需要对所有五个分类变量进行热编码，并将它们作为列附加到具有缩放数字变量的模型矩阵中。 下面单元格中的代码执行一个`for`循环，它调用`encode_string`函数并使用numpy`chactate`函数将虚拟变量添加到模型矩阵中。 `encode_string`函数使用上面讨论的相同过程。\n"
   ]
  },
  {
   "cell_type": "code",
   "execution_count": 34,
   "metadata": {
    "scrolled": true
   },
   "outputs": [
    {
     "name": "stdout",
     "output_type": "stream",
     "text": [
      "(195, 14)\n",
      "[[1. 0. 0. 0. 0. 1. 1. 0. 0. 0. 1. 0. 0. 1.]\n",
      " [1. 0. 0. 0. 0. 1. 1. 0. 0. 0. 1. 0. 0. 1.]]\n"
     ]
    }
   ],
   "source": [
    "def encode_string(cat_feature):\n",
    "    ## First encode the strings to numeric categories\n",
    "    enc = preprocessing.LabelEncoder()\n",
    "    enc.fit(cat_feature)\n",
    "    enc_cat_feature = enc.transform(cat_feature)\n",
    "    ## Now, apply one hot encoding\n",
    "    ohe = preprocessing.OneHotEncoder()\n",
    "    encoded = ohe.fit(enc_cat_feature.reshape(-1,1))\n",
    "    return encoded.transform(enc_cat_feature.reshape(-1,1)).toarray()\n",
    "    \n",
    "\n",
    "categorical_columns = ['fuel_type', 'aspiration', 'drive_wheels', 'num_of_cylinders']\n",
    "\n",
    "for col in categorical_columns:\n",
    "    temp = encode_string(auto_prices[col])\n",
    "    Features = np.concatenate([Features, temp], axis = 1)\n",
    "\n",
    "print(Features.shape)\n",
    "print(Features[:2, :])    "
   ]
  },
  {
   "cell_type": "markdown",
   "metadata": {},
   "source": [
    "请注意，模型矩阵现在有14个特征，它们编码五个原始分类特征。"
   ]
  },
  {
   "cell_type": "markdown",
   "metadata": {},
   "source": [
    "\n",
    "### 添加数字功能\n",
    "\n",
    "要完成模型矩阵，请执行下面单元格中的代码以连接三个数字要素。\n"
   ]
  },
  {
   "cell_type": "code",
   "execution_count": 35,
   "metadata": {},
   "outputs": [
    {
     "data": {
      "text/plain": [
       "array([[1.000e+00, 0.000e+00, 0.000e+00, 0.000e+00, 0.000e+00, 1.000e+00,\n",
       "        1.000e+00, 0.000e+00, 0.000e+00, 0.000e+00, 1.000e+00, 0.000e+00,\n",
       "        0.000e+00, 1.000e+00, 2.548e+03, 1.110e+02, 2.100e+01],\n",
       "       [1.000e+00, 0.000e+00, 0.000e+00, 0.000e+00, 0.000e+00, 1.000e+00,\n",
       "        1.000e+00, 0.000e+00, 0.000e+00, 0.000e+00, 1.000e+00, 0.000e+00,\n",
       "        0.000e+00, 1.000e+00, 2.548e+03, 1.110e+02, 2.100e+01]])"
      ]
     },
     "execution_count": 35,
     "metadata": {},
     "output_type": "execute_result"
    }
   ],
   "source": [
    "Features = np.concatenate([Features, np.array(auto_prices[['curb_weight', 'horsepower', 'city_mpg']])], axis = 1)\n",
    "Features[:2,:]"
   ]
  },
  {
   "cell_type": "markdown",
   "metadata": {},
   "source": [
    "现在有17个功能，14个虚拟变量和3个数字功能。"
   ]
  },
  {
   "cell_type": "markdown",
   "metadata": {},
   "source": [
    "\n",
    "## 拆分数据集\n",
    "\n",
    "构建模型矩阵后，您现在必须创建随机抽样的训练和测试数据集。 下面单元格中的代码使用`sklearn.model_selection`模块中的`train_test_split`函数将伯努利分布的原始数据集中的案例抽样到两个子集中。 由于该数据集较小，因此测试数据集中仅包含40个案例。 执行此代码："
   ]
  },
  {
   "cell_type": "code",
   "execution_count": 36,
   "metadata": {},
   "outputs": [],
   "source": [
    "## Randomly sample cases to create independent training and test data\n",
    "nr.seed(9988)\n",
    "labels = np.array(auto_prices['log_price'])\n",
    "indx = range(Features.shape[0])\n",
    "indx = ms.train_test_split(indx, test_size = 40)\n",
    "x_train = Features[indx[0],:]\n",
    "y_train = np.ravel(labels[indx[0]])\n",
    "x_test = Features[indx[1],:]\n",
    "y_test = np.ravel(labels[indx[1]])"
   ]
  },
  {
   "cell_type": "markdown",
   "metadata": {},
   "source": [
    "### 重新缩放数字特征\n",
    "\n",
    "必须重新调整数字特征，以使它们具有相似的值范围。 重新缩放可以防止那些具有更大范围的数值变量特征对模型训练产生不适当的影响。\n",
    "\n",
    "下面单元格中的代码使用Scikit Learn预处理包中的`StandardScaler`函数来缩放数字特征。 请注意，缩放器仅fit训练数据。最后将训练好的缩放器直接应用于测试数据并应始终使用训练数据中的参数来缩放测试数据。\n",
    "执行此代码：\n"
   ]
  },
  {
   "cell_type": "code",
   "execution_count": 37,
   "metadata": {},
   "outputs": [
    {
     "name": "stdout",
     "output_type": "stream",
     "text": [
      "(155, 17)\n"
     ]
    },
    {
     "data": {
      "text/plain": [
       "array([[ 0.        ,  0.        ,  1.        ,  0.        ,  1.        ,\n",
       "         0.        ,  1.        ,  0.        ,  0.        ,  1.        ,\n",
       "         0.        ,  0.        ,  0.        ,  1.        , -0.5384069 ,\n",
       "        -1.26225437,  1.33602998],\n",
       "       [ 0.        ,  0.        ,  1.        ,  0.        ,  0.        ,\n",
       "         1.        ,  0.        ,  1.        ,  0.        ,  0.        ,\n",
       "         1.        ,  0.        ,  0.        ,  1.        ,  0.96837381,\n",
       "         1.51064566, -1.00126852],\n",
       "       [ 0.        ,  1.        ,  0.        ,  0.        ,  0.        ,\n",
       "         1.        ,  1.        ,  0.        ,  0.        ,  1.        ,\n",
       "         0.        ,  0.        ,  0.        ,  1.        , -0.86156658,\n",
       "        -0.88897936,  0.71275038],\n",
       "       [ 0.        ,  0.        ,  1.        ,  0.        ,  0.        ,\n",
       "         1.        ,  1.        ,  0.        ,  0.        ,  1.        ,\n",
       "         0.        ,  0.        ,  0.        ,  1.        , -0.27559631,\n",
       "        -0.51570436,  0.08947078],\n",
       "       [ 0.        ,  0.        ,  1.        ,  0.        ,  0.        ,\n",
       "         1.        ,  0.        ,  1.        ,  0.        ,  0.        ,\n",
       "         1.        ,  0.        ,  0.        ,  1.        ,  0.9936815 ,\n",
       "         0.28417065, -1.00126852]])"
      ]
     },
     "execution_count": 37,
     "metadata": {},
     "output_type": "execute_result"
    }
   ],
   "source": [
    "scaler = preprocessing.StandardScaler().fit(x_train[:,14:])\n",
    "x_train[:,14:] = scaler.transform(x_train[:,14:])\n",
    "x_test[:,14:] = scaler.transform(x_test[:,14:])\n",
    "print(x_train.shape)\n",
    "x_train[:5,:]"
   ]
  },
  {
   "cell_type": "markdown",
   "metadata": {},
   "source": [
    "您可以看到重新调整数字特征是必需的"
   ]
  },
  {
   "cell_type": "markdown",
   "metadata": {},
   "source": [
    "## 构造线性回归模型\n",
    "\n",
    "通过准备数据并将其拆分为训练和测试集，您现在将计算线性回归模型。创建虚拟变量有17个特征，因此模型将需要17个系数。这种**多元回归**问题的等式可以写成：\n",
    "$$\\hat{y} = f(\\vec{x}) = \\vec{\\beta} \\cdot \\vec{x} + b\\\\ = \\beta_1 x_1 + \\beta_2 x_2 + \\cdots + \\beta_n x_n + b$$  \n",
    "其中：\n",
    "\n",
    "$\\hat{y}$ are 是预测值或分数,   \n",
    "$\\vec{x}$ 表示向量 $\\{ x_1, x_2, \\cdots, x_n$,\n",
    "\n",
    "$\\vec{\\beta}$ 表示向量 $\\{ \\beta_1, \\beta_2, \\cdots, \\beta_n$,他是对应的系数，  \n",
    "$b$ 是截距\n",
    "\n",
    "可将线性回归函数(linear regression function)$f(\\vec{x})$ 视作$\\vec{\\beta}$ 和特征向量 $\\vec{x}$的点积与偏置向量 $b$的和\n",
    "\n",
    "下面单元格中的代码使用`sklearn import linear_model`来计算最小二乘线性模型，如下所示：\n",
    "1. 使用“LinearRegression”方法创建线性回归模型对象。请注意，在这种情况下，不会有任何截距。截距值或**偏差**将被容纳在分类特征的虚拟变量的系数中。\n",
    "2. 使用`fit`方法拟合numpy特征和标签并构建模型。\n",
    "\n"
   ]
  },
  {
   "cell_type": "code",
   "execution_count": 38,
   "metadata": {},
   "outputs": [
    {
     "data": {
      "text/plain": [
       "LinearRegression(copy_X=True, fit_intercept=False, n_jobs=1, normalize=False)"
      ]
     },
     "execution_count": 38,
     "metadata": {},
     "output_type": "execute_result"
    }
   ],
   "source": [
    "## define and fit the linear regression model\n",
    "lin_mod = linear_model.LinearRegression(fit_intercept = False)\n",
    "lin_mod.fit(x_train, y_train)"
   ]
  },
  {
   "cell_type": "markdown",
   "metadata": {},
   "source": [
    "该模型适用于训练数据，执行下面单元格中的代码以检查截距项和系数的值。"
   ]
  },
  {
   "cell_type": "code",
   "execution_count": 39,
   "metadata": {},
   "outputs": [
    {
     "name": "stdout",
     "output_type": "stream",
     "text": [
      "0.0\n",
      "[ 1.36372345  1.15436725  1.27397827  1.16791069  2.57778903  2.38219063\n",
      "  2.48184692  2.47813274  1.62299441  1.62646566  1.71051959  1.70397511\n",
      "  1.71596353  1.54004103  0.18009827  0.14148126 -0.07296916]\n"
     ]
    }
   ],
   "source": [
    "print(lin_mod.intercept_)\n",
    "print(lin_mod.coef_)"
   ]
  },
  {
   "cell_type": "markdown",
   "metadata": {},
   "source": [
    "正如预期的那样，截距项为`0.0`。 粗略地说，您可以按如下方式解释模型的系数：\n",
    "\n",
    "1. 汽车价格随着重量（第一系数），马力（第二系数）而增加，随着燃油效率（第三系数）微弱地减少。\n",
    "2. 虚拟变量的系数在相似的范围内，表明偏差或截距已经包含在这些系数中。\n"
   ]
  },
  {
   "cell_type": "markdown",
   "metadata": {},
   "source": [
    "## 评估模型\n",
    "\n",
    "您现在将使用测试数据集来评估回归模型的性能。 作为第一步，执行下面单元格中的代码以计算和显示各种性能指标并检查结果："
   ]
  },
  {
   "cell_type": "code",
   "execution_count": 40,
   "metadata": {},
   "outputs": [
    {
     "name": "stdout",
     "output_type": "stream",
     "text": [
      "Mean Square Error      = 0.022616207744398466\n",
      "Root Mean Square Error = 0.1503868602784115\n",
      "Mean Absolute Error    = 0.11912678436796154\n",
      "Median Absolute Error  = 0.10696449432930155\n",
      "R^2                    = 0.921638632102606\n",
      "Adjusted R^2           = 0.7453255543334695\n"
     ]
    }
   ],
   "source": [
    "def print_metrics(y_true, y_predicted, n_parameters):\n",
    "    ## First compute R^2 and the adjusted R^2\n",
    "    r2 = sklm.r2_score(y_true, y_predicted)\n",
    "    r2_adj = r2 - (n_parameters - 1)/(y_true.shape[0] - n_parameters) * (1 - r2)\n",
    "    \n",
    "    ## Print the usual metrics and the R^2 values\n",
    "    print('Mean Square Error      = ' + str(sklm.mean_squared_error(y_true, y_predicted)))\n",
    "    print('Root Mean Square Error = ' + str(math.sqrt(sklm.mean_squared_error(y_true, y_predicted))))\n",
    "    print('Mean Absolute Error    = ' + str(sklm.mean_absolute_error(y_true, y_predicted)))\n",
    "    print('Median Absolute Error  = ' + str(sklm.median_absolute_error(y_true, y_predicted)))\n",
    "    print('R^2                    = ' + str(r2))\n",
    "    print('Adjusted R^2           = ' + str(r2_adj))\n",
    "   \n",
    "y_score = lin_mod.predict(x_test) \n",
    "print_metrics(y_test, y_score, 28)    "
   ]
  },
  {
   "cell_type": "markdown",
   "metadata": {},
   "source": [
    "乍一看，这些指标看起来很有希望。 RMSE，MAE和中位数绝对误差都很小并且在相似的范围内。 但是，请注意$R^2$和$R^2_{adj}$是相当不同的。 与可用的案例数量相比，该模型具有大量参数。 该结果表明该模型可能过度拟合并且可能不能很好地泛化。\n",
    "\n",
    "要继续评估模型性能，请执行下面单元格中的代码以显示残差的直方图。\n",
    "\n"
   ]
  },
  {
   "cell_type": "code",
   "execution_count": 41,
   "metadata": {},
   "outputs": [
    {
     "name": "stderr",
     "output_type": "stream",
     "text": [
      "C:\\Anaconda3\\lib\\site-packages\\scipy\\stats\\stats.py:1713: FutureWarning: Using a non-tuple sequence for multidimensional indexing is deprecated; use `arr[tuple(seq)]` instead of `arr[seq]`. In the future this will be interpreted as an array index, `arr[np.array(seq)]`, which will result either in an error or a different result.\n",
      "  return np.add.reduce(sorted[indexer] * weights, axis=axis) / sumval\n"
     ]
    },
    {
     "data": {
      "image/png": "[encoded data removed]",
      "text/plain": [
       "<Figure size 432x288 with 1 Axes>"
      ]
     },
     "metadata": {
      "needs_background": "light"
     },
     "output_type": "display_data"
    }
   ],
   "source": [
    "def hist_resids(y_test, y_score):\n",
    "    ## first compute vector of residuals. \n",
    "    resids = np.subtract(y_test.reshape(-1,1), y_score.reshape(-1,1))\n",
    "    ## now make the residual plots\n",
    "    sns.distplot(resids)\n",
    "    plt.title('Histogram of residuals')\n",
    "    plt.xlabel('Residual value')\n",
    "    plt.ylabel('count')\n",
    "    \n",
    "hist_resids(y_test, y_score)    "
   ]
  },
  {
   "cell_type": "markdown",
   "metadata": {},
   "source": [
    "该直方图显示残差在很小的范围内。 但是，分布有一些明显的偏差。\n",
    "\n",
    "接下来，执行下面单元格中的代码以显示正态Q-Q图。\n",
    "\n",
    "***\n",
    "## Q-Q图\n",
    "***\n",
    "\n",
    "正负样本数据集符合**独立同分布**是构建机器学习模型的前提，从概率角度分析，样本数据独立同分布是正负样本数据是从某一特定的数据分布随机抽取得到的，且正负样本的分布是不一样的。举例来说，若我们用非洲的西瓜作为训练集，然后用中国的西瓜作为测试集，则数据集可能不满足同分布这一前提；抛硬币是最简单的独立同分布；用较专业的学术用语来举例，若训练数据集符合正态分布，测试集符合均匀分布，那么数据集不满足独立同分布这一前提。\n",
    "用**Q-Q图**可以分析不同数据集是否为同一分布，且可以用Q-Q图来验证数据集是否符合正态分布。\n",
    "\n",
    "Q-Q是一种散点图，横坐标为某一样本的分位数，纵坐标为另一样本的分位数，横坐标与纵坐标组成的散点图代表同一个累计概率所对应的分位数。若散点图在直线y=x附近分布，则这两个样本是同等分布；若横坐标样本为标准正态分布且散点图是在直线y=x附近分布，则纵坐标样本符合正态分布，且直线斜率代表样本标准差，截距代表样本均值。\n",
    "\n",
    "\n"
   ]
  },
  {
   "cell_type": "code",
   "execution_count": 42,
   "metadata": {},
   "outputs": [
    {
     "data": {
      "image/png": "[encoded data removed]",
      "text/plain": [
       "<Figure size 432x288 with 1 Axes>"
      ]
     },
     "metadata": {
      "needs_background": "light"
     },
     "output_type": "display_data"
    }
   ],
   "source": [
    "def resid_qq(y_test, y_score):\n",
    "    ## first compute vector of residuals. \n",
    "    resids = np.subtract(y_test.reshape(-1,1), y_score.reshape(-1,1))\n",
    "    ## now make the residual plots\n",
    "    ss.probplot(resids.flatten(), plot = plt)\n",
    "    plt.title('Residuals vs. predicted values')\n",
    "    plt.xlabel('Predicted values')\n",
    "    plt.ylabel('Residual')\n",
    "    \n",
    "resid_qq(y_test, y_score)   "
   ]
  },
  {
   "cell_type": "markdown",
   "metadata": {},
   "source": [
    "与直方图一样，正态Q-Q图表示残差接近正态分布，显示出一些偏斜（偏离直线），这尤其适用于大残差。\n",
    "\n",
    "还有一个诊断图，执行下面单元格中的代码以显示残差与预测值的关系图："
   ]
  },
  {
   "cell_type": "code",
   "execution_count": 43,
   "metadata": {},
   "outputs": [
    {
     "data": {
      "image/png": "[encoded data removed]",
      "text/plain": [
       "<Figure size 432x288 with 1 Axes>"
      ]
     },
     "metadata": {
      "needs_background": "light"
     },
     "output_type": "display_data"
    }
   ],
   "source": [
    "def resid_plot(y_test, y_score):\n",
    "    ## first compute vector of residuals. \n",
    "    resids = np.subtract(y_test.reshape(-1,1), y_score.reshape(-1,1))\n",
    "    ## now make the residual plots\n",
    "    sns.regplot(y_score, resids, fit_reg=False)\n",
    "    plt.title('Residuals vs. predicted values')\n",
    "    plt.xlabel('Predicted values')\n",
    "    plt.ylabel('Residual')\n",
    "\n",
    "resid_plot(y_test, y_score) "
   ]
  },
  {
   "cell_type": "markdown",
   "metadata": {},
   "source": [
    "这个图看起来很合理 当预测值改变时，残差值似乎具有相当恒定的分散。 一些大的残差是显而易见的，特别是在正值的一面。\n",
    "\n",
    "可是，该残差图是用于记录汽车价格的，当转变为实际价格时，会是什么样子？ 执行下面单元格中的代码："
   ]
  },
  {
   "cell_type": "code",
   "execution_count": 44,
   "metadata": {},
   "outputs": [
    {
     "data": {
      "image/png": "[encoded data removed]",
      "text/plain": [
       "<Figure size 432x288 with 1 Axes>"
      ]
     },
     "metadata": {
      "needs_background": "light"
     },
     "output_type": "display_data"
    }
   ],
   "source": [
    "y_score_untransform = np.exp(y_score)\n",
    "y_test_untransform = np.exp(y_test)\n",
    "resid_plot(y_test_untransform, y_score_untransform) "
   ]
  },
  {
   "cell_type": "markdown",
   "metadata": {},
   "source": [
    "请注意，未转换的残差显示出明确的趋势。 残差的分散具有向右增加的锥形图案。 回归模型似乎很好地预测了低成本汽车的价格，但随着汽车价格的上涨而逐渐恶化。"
   ]
  },
  {
   "cell_type": "markdown",
   "metadata": {},
   "source": [
    "\n",
    "## 摘要\n",
    "\n",
    "在本课程中，您在构建和评估多元线性回归模型的过程中完成了以下操作：\n",
    "1. 转换标签值，使其更加对称，更接近正态分布。\n",
    "2. 分类变量的汇总类别，以改善统计表示。\n",
    "3. 缩放数字功能。\n",
    "4. 将分类特征重新编码为二进制虚拟变量。\n",
    "5. 使用scikit-learn拟合线性回归模型。\n",
    "6. 使用数字和图形方法评估模型的性能。\n",
    "\n",
    "从评估的结果可以清楚地看出，该模型需要得到改进。 因为在高价格区域，该模型的泛化较差。\n"
   ]
  },
  {
   "cell_type": "code",
   "execution_count": null,
   "metadata": {},
   "outputs": [],
   "source": []
  }
 ],
 "metadata": {
  "anaconda-cloud": {},
  "kernelspec": {
   "display_name": "Python 3",
   "language": "python",
   "name": "python3"
  },
  "language_info": {
   "codemirror_mode": {
    "name": "ipython",
    "version": 3
   },
   "file_extension": ".py",
   "mimetype": "text/x-python",
   "name": "python",
   "nbconvert_exporter": "python",
   "pygments_lexer": "ipython3",
   "version": "3.7.0"
  }
 },
 "nbformat": 4,
 "nbformat_minor": 1
}
