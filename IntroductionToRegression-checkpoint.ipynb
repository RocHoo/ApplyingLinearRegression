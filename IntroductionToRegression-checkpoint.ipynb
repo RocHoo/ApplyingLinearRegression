{
 "cells": [
  {
   "cell_type": "markdown",
   "metadata": {},
   "source": [
    "\n",
    "# 回归简介\n",
    "\n",
    "## 介绍\n",
    "\n",
    "在本实验中，您将学习使用Python scikit-learn包的线性回归模块。 特别是;\n",
    "\n",
    "1. 应用回归模型进行预测的基础知识。\n",
    "2. 评估回归模型的性能。\n",
    "2. 应用原理使用scikit-learn来实践，训练和测试机器学习模型。\n"
   ]
  },
  {
   "cell_type": "markdown",
   "metadata": {
    "collapsed": true
   },
   "source": [
    "## 回归概述\n",
    "\n",
    "回归方法是最古老和最广泛使用的分析方法之一。回归的目标是生成一个代表某些观测数据“最适合”的模型。通常，该模型是描述由一组参数（例如，斜率和截距）确定的某种类型的曲线（线，抛物线等）的函数。 “最佳拟合”意味着根据我们选择的评估标准存在一组最佳参数。\n",
    "\n",
    "回归模型尝试使用其他变量的值（称为**自变量**，**解释变量**或**特征**）预测一个变量的值，称为**因变量**，**响应变量**或**标签**。单个回归有一个特征变量用于预测一个对应的标签而多元回归使用两个或多个特征变量。\n",
    "\n",
    "在数学形式中，回归的目标是找到某些特征$X$的产生他对应预测标签值$y$的函数。这个函数可以写成如下形式：\n",
    "\n",
    "$$\\hat{y} = f(X)$$\n",
    "\n",
    "回归的难点是**学习**函数$f(X)$，以便$\\hat{y}$的预测是准确的。换句话说，我们训练模型以最小化我们预测的$\\hat{y}$和已知标签值$y$之间的差异。事实上，**监督学习**的整个领域都有这个目标。许多机器学习模型，包括一些最新的深度学习方法，都是一种回归形式。这些方法经常遇到相同的问题，包括过度拟合和数学上不稳定的拟合方法。\n"
   ]
  },
  {
   "cell_type": "markdown",
   "metadata": {},
   "source": [
    "### 线性回归概述\n",
    "\n",
    "在本实验中，您将使用线性回归模型。线性回归是回归的基本形式。一旦你对线性回归有所了解，你就会对机器学习有很多了解。\n",
    "\n",
    "线性回归的最简单情况是**单回归**，因为只有一个特征，线性回归方程编写如下：\n",
    "\n",
    "$$\\hat{y} = a \\cdot x + b$$\n",
    "\n",
    "模型系数是$a$我们称之为**斜率**，而$b$我们称之为**截距**。请注意，这只是单变量的直线方程。\n",
    "\n",
    "但是，$a$和$b$的最佳值是多少？在线性回归中，我们选择合适的$a$和$b$以最小化预测和已知标签之间的平方误差,该值称为**平方误差**或**SSE**。对于$n$ **训练样本**，SSE的计算方法如下：\n",
    "\n",
    "\n",
    "$$MSE = \\sum_{i=1}^n \\big( f(x_i) - y_i \\big)^2\\\\\n",
    "= \\sum_{i=1}^n \\big( \\hat{y}_i - y_i \\big)^2\\\\\n",
    "= \\sum_{i=1}^n \\big( a \\cdot x_i + b - y_i \\big)^2$$\n",
    "\n",
    "最小化SSE的回归方法被称为**最小二乘法**。"
   ]
  },
  {
   "cell_type": "markdown",
   "metadata": {},
   "source": [
    "\n",
    "### 实践第一个线性回归示例\n",
    "\n",
    "您现在将训练和评估线性回归模型。，在这种情况下，您将使用模拟数据，这意味着您可以将计算结果与数据的已知属性进行比较。\n",
    "\n",
    "作为第一步，执行下面单元格中的代码，以加载运行其余部分所需的软件包。\n"
   ]
  },
  {
   "cell_type": "code",
   "execution_count": 1,
   "metadata": {},
   "outputs": [],
   "source": [
    "## Import packages\n",
    "import numpy as np\n",
    "import numpy.random as nr\n",
    "import matplotlib.pyplot as plt\n",
    "import sklearn.model_selection as ms\n",
    "import sklearn.metrics as sklm\n",
    "from sklearn import preprocessing\n",
    "from sklearn import linear_model\n",
    "import scipy.stats as ss\n",
    "import seaborn as sns\n",
    "import math\n",
    "\n",
    "# make plots appear inline in the notebook\n",
    "%matplotlib inline "
   ]
  },
  {
   "cell_type": "markdown",
   "metadata": {},
   "source": [
    "用下面单元格中的代码模拟数据并绘制结果。 该数据具有以下属性：\n",
    "\n",
    " - `x`变量均匀分布在0.0和10.0之间。\n",
    " - `y`变量等于`x`变量加上正态分布的随机分量。 因此，对于未扩展的数据，斜率系数应为1.0，截距为0.0。\n",
    "\n",
    "执行此代码并检查结果：\n"
   ]
  },
  {
   "cell_type": "code",
   "execution_count": 2,
   "metadata": {
    "scrolled": false
   },
   "outputs": [
    {
     "data": {
      "text/plain": [
       "Text(0.5,1,'Data for regression')"
      ]
     },
     "execution_count": 2,
     "metadata": {},
     "output_type": "execute_result"
    },
    {
     "data": {
      "image/png": "[encoded data removed]",
      "text/plain": [
       "<Figure size 432x288 with 1 Axes>"
      ]
     },
     "metadata": {
      "needs_background": "light"
     },
     "output_type": "display_data"
    }
   ],
   "source": [
    "nr.seed(34567)\n",
    "x = np.arange(start = 0.0, stop = 10.0, step = 0.1)\n",
    "y = np.add(x, nr.normal(scale = 1.0, size = x.shape[0]))\n",
    "\n",
    "sns.regplot(x, y, fit_reg = False)\n",
    "plt.xlabel('X')\n",
    "plt.ylabel('Y')\n",
    "plt.title('Data for regression')"
   ]
  },
  {
   "cell_type": "markdown",
   "metadata": {},
   "source": [
    "正如预期的那样，这些数据遵循直线趋势。 然而，由于添加了正态分布的噪声，这些数据存在一些分散。"
   ]
  },
  {
   "cell_type": "markdown",
   "metadata": {},
   "source": [
    "#### 拆分数据集\n",
    "\n",
    "在执行任何类型的机器学习时，需要良好的数据准备以确保良好的模型性能。糟糕的数据准备通常是机器学习模型性能不佳的根源。\n",
    "\n",
    "准备这些数据的第一步是创建**独立采样** **训练数据集**和**测试数据集**。在大多数情况下，还将使用独立采样的**评估数据集**。这次的实践中，不会进行任何模型改进或比较，因此不需要这个额外的步骤。\n",
    "\n",
    "如果使用相同的数据来训练和测试机器学习模型，则模型很可能只是学习训练数据。从技术角度来说，可以说训练和测试过程之间存在**信息泄漏**。在这种情况下，模型可能不会很好地泛化**。从未遇到过一个泛化良好的模型在遇到新样本时产生一致的结果，相反，当提出新样本时，泛化能力差的模型可能会产生意外结果。\n",
    "\n",
    "使用**伯努利采样**过程创建数据的随机样本。伯努利采样以概率$p$接受数据集中的样本。在这种情况下，给定案例在训练数据集中的概率是$p$。然后，样本在测试数据集中的概率变为$1-p$。\n",
    "来自`sklearn.model_selection`模块的`train_test_split`函数执行了所需的伯努利采样。`train_test_split`函数对包含特征和标签值的数组的索引进行采样。下面单元格中的代码执行此分割操作，执行此代码：\n"
   ]
  },
  {
   "cell_type": "code",
   "execution_count": 3,
   "metadata": {},
   "outputs": [],
   "source": [
    "## Randomly sample cases to create independent training and test data\n",
    "nr.seed(9988)\n",
    "indx = range(len(x))\n",
    "indx = ms.train_test_split(indx, test_size = 50)\n",
    "x_train = np.ravel(x[indx[0]])\n",
    "y_train = np.ravel(y[indx[0]])\n",
    "x_test = np.ravel(x[indx[1]])\n",
    "y_test = np.ravel(y[indx[1]])"
   ]
  },
  {
   "cell_type": "markdown",
   "metadata": {},
   "source": [
    "#### 缩放数字特征\n",
    "现在分割数据集，必须重新缩放数字特征列。 重新调整数字特征非常重要。 特征的数值范围不应影响到该特征机器学习模型的训练程度。\n",
    "\n",
    "例如，考虑具有两个特征的数据集，年龄（通常以几十年计）和收入（通常以数十或数十万计）。 在某些模型中，没有理由仅仅因为它的值范围更大就更相信收入比年龄更重要。为防止出现此问题，数字特征会缩放到相同的范围。\n",
    "\n",
    "有许多可能的缩放方法 : 一种简单的方法称为Min-Max归一化。 使用以下公式将数据缩放到{0,1}范围内：\n",
    "\n",
    "\n",
    "$$x\\_scaled_i = \\frac{(x_i - Min(x))}{(Max(x) - Min(x))}$$\n",
    "\n",
    "此时,\n",
    "$x_i $ 是第i个样本的值,\n",
    "$Min(X) $ 所有特征中的最小值,\n",
    "$Max(X) $ 所有特征中的最大值.\n",
    "\n",
    "\n",
    "\n",
    "通常，对于被缩放的值具有复杂分布的情况，Min-Max归一化是一个很好的选择。 例如，对于具有多个模式的分布的变量Min-Max规范化可能是很好的选择。 请注意，一些异常值的存在可能会通过$Min(X)$或$Max(X)$来显示出那些不具代表性的值并扭曲结果。\n",
    "\n",
    "\n",
    "对于本实验，您将使用**Z-Score**归一化。 Z-Score归一化转换变量可使其具有零均值和单位标准差（或方差）。 \n",
    "\n",
    "我们使用以下公式执行Z-Score归一化：\n",
    "\n",
    "$$x\\_scaled_i = \\frac{\\big(x_i - \\mu \\big)}{\\sigma}$$\n",
    "\n",
    "这里,\n",
    "$\\mu $ 是变量 $X$的平均值，\n",
    "$\\sigma $ 是变量$X$的标准差。"
   ]
  },
  {
   "cell_type": "markdown",
   "metadata": {},
   "source": [
    "下面单元格中的代码使用`sklearn.preprocessing`包中的`StandardScaler`函数。 该函数计算训练数据的缩放系数。 然后使用“transform”方法将得到的变换应用于训练和测试数据。\n",
    "\n",
    "请注意，缩放变换仅在训练数据上计算。 应始终根据训练数据计算缩放变换，而不是测试或评估数据。\n",
    "\n",
    "通常，不需要缩放数字标签。 但是，可能需要其他转换。\n",
    "\n",
    "执行下面单元格中的代码，该代码将Z-Score转换应用于训练和测试功能。"
   ]
  },
  {
   "cell_type": "code",
   "execution_count": null,
   "metadata": {},
   "outputs": [],
   "source": [
    "## Scale the feature, being sure to use the scale of the training\n",
    "## data not the test data. \n",
    "scaler = preprocessing.StandardScaler().fit(x_train.reshape(-1,1))\n",
    "x_train = scaler.transform(x_train.reshape(-1,1))     \n",
    "y_train = scaler.transform(y_train.reshape(-1,1))     "
   ]
  },
  {
   "cell_type": "markdown",
   "metadata": {},
   "source": [
    "\n",
    "## 训练回归模型\n",
    "\n",
    "准备好数据后，是时候训练回归模型了。 这是通过`sklearn.linear_model`包完成的。训练大多数scikit-learn模型的步骤与此处使用的相同：\n",
    "\n",
    "1. 实例化模型对象。可以在实例化时执行附加模型规范。\n",
    "2. 使用numpy特征和标签数组拟合模型。 在这种情况下，只有一个特征，因此`reshape`方法用于创建正确尺寸的数组。\n",
    "\n",
    "\n",
    "\n",
    "您可以点击此链接查找其他[documentation on linear regression models with scikit-learn](http://scikit-learn.org/stable/modules/linear_model.html#ordinary-least-squares).\n",
    "\n",
    "执行下面单元格中的代码以实例化并拟合模型："
   ]
  },
  {
   "cell_type": "code",
   "execution_count": 4,
   "metadata": {},
   "outputs": [
    {
     "data": {
      "text/plain": [
       "LinearRegression(copy_X=True, fit_intercept=True, n_jobs=1, normalize=False)"
      ]
     },
     "execution_count": 4,
     "metadata": {},
     "output_type": "execute_result"
    }
   ],
   "source": [
    "## define and fit the linear regression model\n",
    "lin_mod = linear_model.LinearRegression()\n",
    "lin_mod.fit(x_train.reshape(-1,1), y_train)"
   ]
  },
  {
   "cell_type": "markdown",
   "metadata": {},
   "source": [
    "作为该模型的第一次验证，您可以打印模型系数，执行下面单元格中的代码并检查结果："
   ]
  },
  {
   "cell_type": "code",
   "execution_count": 5,
   "metadata": {},
   "outputs": [
    {
     "name": "stdout",
     "output_type": "stream",
     "text": [
      "0.059533672083196265\n",
      "[1.03285118]\n"
     ]
    }
   ],
   "source": [
    "print(lin_mod.intercept_)\n",
    "print(lin_mod.coef_)"
   ]
  },
  {
   "cell_type": "markdown",
   "metadata": {},
   "source": [
    "这些系数接近模拟中使用的值$0.0$和$1.0$。"
   ]
  },
  {
   "cell_type": "markdown",
   "metadata": {},
   "source": [
    "接下来，您将绘制从训练特征计算的预测值。 `predict` 方法应用于具有训练数据的模型。 然后显示原始标签值和预测值或分数的线的图。 执行代码并检查结果。\n"
   ]
  },
  {
   "cell_type": "code",
   "execution_count": 6,
   "metadata": {},
   "outputs": [
    {
     "data": {
      "image/png": "[encoded data removed]",
      "text/plain": [
       "<Figure size 432x288 with 1 Axes>"
      ]
     },
     "metadata": {
      "needs_background": "light"
     },
     "output_type": "display_data"
    }
   ],
   "source": [
    "def plot_regression(x, y_score, y):\n",
    "    ## Plot the result\n",
    "    sns.regplot(x, y, fit_reg=False)\n",
    "    plt.plot(x, y_score, c = 'red')\n",
    "    plt.xlabel('X')\n",
    "    plt.ylabel('Y')\n",
    "    plt.title('Fit of model to test data')\n",
    "\n",
    "y_score = lin_mod.predict(x_test.reshape(-1,1)) \n",
    "\n",
    "plot_regression(x_test, y_score, y_test)"
   ]
  },
  {
   "cell_type": "markdown",
   "metadata": {},
   "source": [
    "红线似乎非常适合数据。 评分值和残差之间的误差似乎很小。 但是，需要对模型性能进行客观评估。\n"
   ]
  },
  {
   "cell_type": "markdown",
   "metadata": {
    "collapsed": true
   },
   "source": [
    "\n",
    "## 评估模型性能\n",
    "\n",
    "在训练模型后，是时候评估性能了。 这是使用测试数据集完成的，因此模型训练中没有信息泄漏。\n",
    "\n",
    "作为第一步，计算一组性能度量。 有许多可能的指标用于评估回归模型。 通常，这些指标是**残值**的函数，或预测值或得分与实际标签值之间的差异：\n",
    "\n",
    "$$r_i = f(x_i) - y_i = \\hat{y}_i - y_i$$\n",
    "\n",
    "在本实验中，将使用一些更常见的指标：\n",
    "\n",
    "- **Mean squared error** or MSE,  \n",
    "$$MSE = \\frac{1}{N} \\sum_{i=1}^N (f(x_i) - y_i)^2$$\n",
    "\n",
    "均方误差与残差的方差相同（略有偏差）。 回想一下，这个指标是一个线性回归最小化。 请注意，均方误差以标签值的平方为单位。\n",
    "\n",
    "- **Root mean squred error** or RMSE,  \n",
    "$$RMSE = \\sqrt{ \\frac{1}{N} \\sum_{i=1}^N (f(x_i) - y_i)^2}$$\n",
    "\n",
    "均方根误差与残差的标准偏差相同（略有偏差），均方根误差与标签值的单位相同。\n",
    "\n",
    "- **Mean absolute error** or MAE,\n",
    "$$MAE = \\frac{1}{N} \\sum_{i=1}^N |f(x_i) - y_i|$$  \n",
    "这里 $||$ 是取绝对值.  \n",
    "\n",
    "与均方根误差相似，可能会发现此度量更直观，因为它只是残差量值的平均值。  \n",
    "\n",
    "- **Median absolute error**,\n",
    "$$Median\\ Absolute\\ Error = Median \\big( \\sum_{i=1}^N |f(x_i) - y_i| \\big)$$   \n",
    "\n",
    "中值绝对误差是绝对残差的位置参数的稳健测量，如果该度量与平均绝对误差显着不同，则残差中可能存在异常值。\n",
    "\n",
    "- **R squared or $R^2$**, 也称作 **coefficient of determination**,  \n",
    "$$R^2 = 1 - \\frac{SS_{res}}{SS_{tot}}$$  \n",
    "此时,\n",
    "\n",
    "$SS_{res} = \\sum_{i=1}^N r_i^2$\n",
    "\n",
    "$SS_{res} = \\sum_{i=1}^N y_i^2$ \n",
    "\n",
    "\n",
    "换句话说，$R^2$是原始标签值和残差之间的平方值之和减少的度量。 如果模型没有减少标签的平方和（一个无用的模型！），$R^2 = 0$. 另一方面，如果模型完全符合数据，那么所有$r_i = 0$，那么$R^2 = 1$。\n",
    "\n",
    "\n",
    "\n",
    "- **Adjusted R squared 也称作 $R^2_{adj}$** ,\n",
    "$$R^2_{adj} = 1 - \\frac{var(r)}{var(y)} = 1 - \\frac{\\frac{SS_{res}}{(n - p -1)}}{\\frac{SS_{tot}}{(n-1)}}$$  \n",
    "where,   \n",
    "$var(r) = $ 残差方差,   \n",
    "$var(y) = $ 标签的方差s,\n",
    "$n = $ 是样本数量,\n",
    "$p = $ 模型参数数量.  \n",
    "\n",
    "$R^2_{adj}$的解释与$R^2$相同。 在许多情况下，几乎没有什么区别。 但是，如果参数的数量相对于样本数量很重要，则 $R^2$将给出过于乐观的模型性能度量。 一般来说，$R^2_{adj}$和$R^2$之间的差异随着$n$ 增长的情况而变得不那么重要。 然而，即使对于“大数据”模型，如果存在大量模型参数，也会存在显着差异。\n",
    "\n",
    "\n",
    "****\n",
    "\n",
    "**注意：**是否可以在$\\{ 0,1 \\}$范围之外获得$R^2$值？ 通常没有。 但也有例外。\n",
    "\n",
    "在退化情况下，$R^2$只能大于$1$。 例如，如果所有标签值都相同。但是，在这种情况下，您不需要模型来预测标签！\n",
    "\n",
    "如果你发现你的模型给$R^2$ 的值小于怎么办$0$？ 这可能意味着什么？ 这意味着您的代码中存在错误，并且模型的残差比原始标签更具分散性！\n",
    "\n",
    "****\n",
    "\n",
    "下面单元格中的代码使用`sklearn.metrics`包中的函数来计算一些常用指标。 在`sklearn.metrics`中没有$R^2_{adj}$的函数，但是可以很容易地计算。\n",
    "\n",
    "您可以点击此链接查找其他内容 [documentation on linear regression merics built into scikit-learn](http://scikit-learn.org/stable/modules/model_evaluation.html#regression-metrics).   \n",
    "\n",
    "执行下面单元格中的代码，检查结果："
   ]
  },
  {
   "cell_type": "code",
   "execution_count": 7,
   "metadata": {},
   "outputs": [
    {
     "name": "stdout",
     "output_type": "stream",
     "text": [
      "Mean Square Error      = 1.0226460695913955\n",
      "Root Mean Square Error = 1.0112596449930134\n",
      "Mean Absolute Error    = 0.7597851566115557\n",
      "Median Absolute Error  = 0.5777295111728586\n",
      "R^2                    = 0.8974201596102861\n",
      "Adjusted R^2           = 0.895283079602167\n"
     ]
    }
   ],
   "source": [
    "def print_metrics(y_true, y_predicted, n_parameters):\n",
    "    ## First compute R^2 and the adjusted R^2\n",
    "    r2 = sklm.r2_score(y_true, y_predicted)\n",
    "    r2_adj = r2 - (n_parameters - 1)/(y_true.shape[0] - n_parameters) * (1 - r2)\n",
    "    \n",
    "    ## Print the usual metrics and the R^2 values\n",
    "    print('Mean Square Error      = ' + str(sklm.mean_squared_error(y_true, y_predicted)))\n",
    "    print('Root Mean Square Error = ' + str(math.sqrt(sklm.mean_squared_error(y_true, y_predicted))))\n",
    "    print('Mean Absolute Error    = ' + str(sklm.mean_absolute_error(y_true, y_predicted)))\n",
    "    print('Median Absolute Error  = ' + str(sklm.median_absolute_error(y_true, y_predicted)))\n",
    "    print('R^2                    = ' + str(r2))\n",
    "    print('Adjusted R^2           = ' + str(r2_adj))\n",
    "    \n",
    "print_metrics(y_test, y_score, 2)    "
   ]
  },
  {
   "cell_type": "markdown",
   "metadata": {},
   "source": [
    "怎么解释这些结果：\n",
    " -  MSE和RMSE符合预期。 模拟数据的标准偏差为$1.0$。\n",
    " -  MAE和中位数绝对误差具有较小的值并且非常接近，表明良好的模型拟合和残差中的少数显着异常值。\n",
    " -  $R^2_{adj}$和$R^2$都非常接近1，表明模型正在做出比标签值的简单平均值好得多的有用预测。\n",
    "\n"
   ]
  },
  {
   "cell_type": "markdown",
   "metadata": {},
   "source": [
    "线性回归模型的残差应具有近似正态分布。 这种情况可以使用图形方法轻松测试，特别是直方图和Q-Q正态图。\n",
    "\n",
    "****\n",
    "**注意：**一个常见的误解是线性回归模型的特征或标签必须具有正态分布。 不是这种情况！ 相反，模型的残差（误差）应该是正态分布的。\n",
    "****\n",
    "\n",
    "下面单元格中的代码绘制了核密度图和回归模型残差的直方图。 执行此代码并检查结果。\n",
    " "
   ]
  },
  {
   "cell_type": "code",
   "execution_count": null,
   "metadata": {},
   "outputs": [],
   "source": [
    "def hist_resids(y_test, y_score):\n",
    "    ## first compute vector of residuals. \n",
    "    resids = np.subtract(y_test.reshape(-1,1), y_score.reshape(-1,1))\n",
    "    ## now make the residual plots\n",
    "    sns.distplot(resids)\n",
    "    plt.title('Histogram of residuals')\n",
    "    plt.xlabel('Residual value')\n",
    "    plt.ylabel('count')\n",
    "    \n",
    "hist_resids(y_test, y_score)    "
   ]
  },
  {
   "cell_type": "markdown",
   "metadata": {
    "collapsed": true
   },
   "source": [
    "该直方图和核密度图看起来大致正常，但有一些偏差。 总的来说，这些残差看起来对于实际的模型来说是合理的。"
   ]
  },
  {
   "cell_type": "markdown",
   "metadata": {
    "collapsed": true
   },
   "source": [
    "另一个有用的图是**Q-Q正态图**。 该图显示水平轴上标准正态分布的分位数和垂直轴上残差的分位数。 如果残差完全正态分布，则这些点将落在直线上。 在实际问题中，您应该期望直线关系是近似的。\n",
    "\n",
    "执行下面单元格中的代码并检查结果图:\n"
   ]
  },
  {
   "cell_type": "code",
   "execution_count": 8,
   "metadata": {},
   "outputs": [
    {
     "data": {
      "image/png": "[encoded data removed]",
      "text/plain": [
       "<Figure size 432x288 with 1 Axes>"
      ]
     },
     "metadata": {
      "needs_background": "light"
     },
     "output_type": "display_data"
    }
   ],
   "source": [
    "def resid_qq(y_test, y_score):\n",
    "    ## first compute vector of residuals. \n",
    "    resids = np.subtract(y_test.reshape(-1,1), y_score.reshape(-1,1))\n",
    "    ## now make the residual plots\n",
    "    ss.probplot(resids.flatten(), plot = plt)\n",
    "    plt.title('Residuals vs. predicted values')\n",
    "    plt.xlabel('Quantiles of standard Normal distribution')\n",
    "    plt.ylabel('Quantiles of residuals')\n",
    "    \n",
    "resid_qq(y_test, y_score)    "
   ]
  },
  {
   "cell_type": "markdown",
   "metadata": {},
   "source": [
    "请注意，这些点几乎沿着直线下降。这表明残差具有近似正态的分布。\n",
    "\n",
    "现在，您将为此回归模型制作最后一个诊断图，称为残差图。残差与预测值（分数）的关系图显示残差中是否存在结构。对于理想的回归模型，残差的方差或离差不应随预测值的值而变化。有人说，理想的残差图应该看起来像一个“模糊毛虫”，与预测值没有变化。\n",
    "\n",
    "该图中具有预测值变化的任何结构表明模型拟合随预测值变化。例如，如果残差随预测值增加，则可以说模型仅能很好地预测较小的标签值。相反的情况表明只能很好地预测大的标签值。中间范围的变化表明预测值存在一些非线性变化。换句话说，在任何这些情况下，模型都不能准确地计算预测值。\n",
    "\n",
    "执行下面单元格中的代码以显示和检查回归模型的残差图。\n"
   ]
  },
  {
   "cell_type": "code",
   "execution_count": 9,
   "metadata": {
    "scrolled": false
   },
   "outputs": [
    {
     "data": {
      "image/png": "[encoded data removed]",
      "text/plain": [
       "<Figure size 432x288 with 1 Axes>"
      ]
     },
     "metadata": {
      "needs_background": "light"
     },
     "output_type": "display_data"
    }
   ],
   "source": [
    "def resid_plot(y_test, y_score):\n",
    "    ## first compute vector of residuals. \n",
    "    resids = np.subtract(y_test.reshape(-1,1), y_score.reshape(-1,1))\n",
    "    ## now make the residual plots\n",
    "    sns.regplot(y_score, resids, fit_reg=False)\n",
    "    plt.title('Residuals vs. predicted values')\n",
    "    plt.xlabel('Predicted values')\n",
    "    plt.ylabel('Residual')\n",
    "    \n",
    "resid_plot(y_test, y_score)    "
   ]
  },
  {
   "cell_type": "markdown",
   "metadata": {
    "collapsed": true
   },
   "source": [
    "\n",
    "这个残差图看起来相当不错。 在预测值的范围内，且发散是合理恒定的。"
   ]
  },
  {
   "cell_type": "markdown",
   "metadata": {},
   "source": [
    "\n",
    "## 摘要\n",
    "\n",
    "在本实验中，您已经为线性回归模型执行了完整的机器学习过程。 遵循相同的步骤可以用来创建和测试任何机器学习模型。 此过程中的步骤包括：\n",
    "\n",
    "1. 模拟数据集。 在典型的回归问题中，将执行详细的数据探索。\n",
    "2. 准备好数据。 在这种情况下，准备工作包括将数据拆分为训练和测试集以及归一化特征。\n",
    "3. 使用scikit-learn训练数据构建回归模型。\n",
    "4. 使用测试数据评估模型的结果。 在这种情况下，发现残差相当小且表现良好。\n"
   ]
  },
  {
   "cell_type": "code",
   "execution_count": null,
   "metadata": {},
   "outputs": [],
   "source": []
  }
 ],
 "metadata": {
  "anaconda-cloud": {},
  "kernelspec": {
   "display_name": "Python 3",
   "language": "python",
   "name": "python3"
  },
  "language_info": {
   "codemirror_mode": {
    "name": "ipython",
    "version": 3
   },
   "file_extension": ".py",
   "mimetype": "text/x-python",
   "name": "python",
   "nbconvert_exporter": "python",
   "pygments_lexer": "ipython3",
   "version": "3.7.0"
  }
 },
 "nbformat": 4,
 "nbformat_minor": 1
}
